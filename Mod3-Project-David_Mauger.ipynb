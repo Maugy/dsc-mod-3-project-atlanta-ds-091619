{
 "cells": [
  {
   "cell_type": "markdown",
   "metadata": {},
   "source": [
    "# Module 3 Project\n",
    "\n",
    "<br> David Mauger\n",
    "<br> Data Science - Full Time Immersive\n",
    "<br> Date: Oct 28, 2019\n",
    "<br> Howard Smith & Amanda Yandow\n",
    "<br> https://github.com/Maugy"
   ]
  },
  {
   "cell_type": "markdown",
   "metadata": {},
   "source": [
    "# Northwind Database & Hypothesis Testing"
   ]
  },
  {
   "cell_type": "markdown",
   "metadata": {},
   "source": [
    "## Overview\n",
    "1. [Objective & Background](#001)\n",
    "2. [Obtaining Data & Defining Functions](#002)\n",
    "3. [Question #1](#003)\n",
    "4. [Question #2](#004)\n",
    "5. [Question #3](#005)\n",
    "6. [Question #4](#006)\n"
   ]
  },
  {
   "cell_type": "markdown",
   "metadata": {},
   "source": [
    "<a id=\"001\"></a>"
   ]
  },
  {
   "cell_type": "markdown",
   "metadata": {},
   "source": [
    "## 1) Objective & Background\n",
    "***\n"
   ]
  },
  {
   "cell_type": "markdown",
   "metadata": {},
   "source": [
    "**1.1 Questions to Test:**\n",
    "> 1) Do discounts have a statistically significant effect on the number of products customers order? If so, at what level(s) of discount? \n",
    "<br> 2) Does revenue have a statistically significant difference between regions?\n",
    "<br> 3) Is there a statistically significant difference in efficiency (ship-to-order, late shipments) between shipping companies?\n",
    "<br> 4) Is there a statistically significant difference between the best selling products per region?\n"
   ]
  },
  {
   "cell_type": "markdown",
   "metadata": {},
   "source": [
    "**1.2 Data Provided:** \n",
    ">**Northwind Database**\n",
    "<br> The Northwind database is a sample database used by Microsoft to demonstrate the features of some of its products. The database contains the sales data for Northwind Traders, a fictitious specialty foods export/import company.\n",
    "<br>\n",
    "<br>\n",
    ">**Table Structure**\n",
    "<img src=\"Northwind_ERD.png\">\n"
   ]
  },
  {
   "cell_type": "markdown",
   "metadata": {},
   "source": [
    "**1.3 Methodology**\n",
    "<br> For each question listed above, I will follow a process that includes:\n",
    "\n",
    "> - Explore Data\n",
    "> - Define Hypothesis\n",
    "> - Test Data\n",
    "> - Interpret Data\n",
    "\n",
    "I intend to use a variation of the OSEMN Process to address each question:  **Obtain Data, Scrub Data, Explore Data, Model Data, Interpret Data.**"
   ]
  },
  {
   "cell_type": "markdown",
   "metadata": {},
   "source": [
    "<a id=\"002\"></a>"
   ]
  },
  {
   "cell_type": "markdown",
   "metadata": {},
   "source": [
    "## 2) Obtaining Data & Defining Functions\n",
    "***"
   ]
  },
  {
   "cell_type": "code",
   "execution_count": 1,
   "metadata": {},
   "outputs": [],
   "source": [
    "import sqlite3\n",
    "import pandas as pd \n",
    "import sqlalchemy \n",
    "\n",
    "from sqlalchemy import create_engine\n",
    "from sqlalchemy import inspect\n",
    "from sqlalchemy.orm import Session, sessionmaker\n",
    "\n",
    "import matplotlib.pyplot as plt \n",
    "import seaborn as sns \n",
    "import numpy as np \n",
    "from scipy import stats \n",
    "\n",
    "import statsmodels.api as sm\n",
    "from statsmodels.formula.api import ols\n",
    "\n",
    "import scipy.stats as st\n",
    "from scipy.stats import shapiro\n",
    "\n",
    "from statsmodels.stats.multicomp import pairwise_tukeyhsd\n",
    "from statsmodels.stats.multicomp import MultiComparison\n",
    "\n",
    "import warnings\n",
    "warnings.filterwarnings('ignore') "
   ]
  },
  {
   "cell_type": "code",
   "execution_count": 2,
   "metadata": {},
   "outputs": [],
   "source": [
    "engine = create_engine(\"sqlite:///Northwind_small.sqlite\")\n",
    "Session = sessionmaker(bind=engine)\n",
    "session = Session()\n",
    "con = engine.connect()\n"
   ]
  },
  {
   "cell_type": "markdown",
   "metadata": {},
   "source": [
    "### Cohen's d"
   ]
  },
  {
   "cell_type": "code",
   "execution_count": 3,
   "metadata": {},
   "outputs": [],
   "source": [
    "def Cohen_d(group1, group2):\n",
    "    diff = group1.mean() - group2.mean()\n",
    "\n",
    "    n1, n2 = len(group1), len(group2)\n",
    "    var1 = group1.var()\n",
    "    var2 = group2.var()\n",
    "\n",
    "    pooled_var = (n1 * var1 + n2 * var2) / (n1 + n2)\n",
    "    \n",
    "    d = diff / np.sqrt(pooled_var)\n",
    "    \n",
    "    return abs(d)"
   ]
  },
  {
   "cell_type": "code",
   "execution_count": 4,
   "metadata": {},
   "outputs": [],
   "source": [
    "def evaluate_PDF(rv, x=4):\n",
    "    \n",
    "    mean = rv.mean()\n",
    "    std = rv.std()\n",
    "    xs = np.linspace(mean - x*std, mean + x*std, 100)\n",
    "    ys = rv.pdf(xs)\n",
    "\n",
    "    return xs, ys "
   ]
  },
  {
   "cell_type": "code",
   "execution_count": 5,
   "metadata": {},
   "outputs": [],
   "source": [
    "def overlap_superiority(group1, group2, n=1000):\n",
    "\n",
    "    group1_sample = group1.rvs(n)\n",
    "    group2_sample = group2.rvs(n)\n",
    "    thresh = (group1.mean() + group2.mean()) / 2\n",
    "    print(thresh)\n",
    "    \n",
    "    above = sum(group1_sample < thresh)\n",
    "    below = sum(group2_sample > thresh)\n",
    "    overlap = (above + below) / n\n",
    "    superiority = sum(x > y for x, y in zip(group1_sample, group2_sample)) / n\n",
    "\n",
    "    return overlap, superiority"
   ]
  },
  {
   "cell_type": "code",
   "execution_count": 6,
   "metadata": {},
   "outputs": [],
   "source": [
    "def plot_pdfs(cohen_d=2):\n",
    "\n",
    "    group1 = st.norm(0, 1)\n",
    "    group2 = st.norm(cohen_d, 1)\n",
    "    xs, ys = evaluate_PDF(group1)\n",
    "    plt.fill_between(xs, ys, label='Group1', color='#ff2289', alpha=0.7)\n",
    "    xs, ys = evaluate_PDF(group2)\n",
    "    plt.fill_between(xs, ys, label='Group2', color='#376cb0', alpha=0.7)\n",
    "    \n",
    "    o, s = overlap_superiority(group1, group2)\n",
    "    print('overlap', o)\n",
    "    print('superiority', s)"
   ]
  },
  {
   "cell_type": "markdown",
   "metadata": {},
   "source": [
    "### Central Limit Theorem"
   ]
  },
  {
   "cell_type": "code",
   "execution_count": 7,
   "metadata": {},
   "outputs": [],
   "source": [
    "def get_sample(data, n):\n",
    "    sample = []\n",
    "    while len(sample) != n:\n",
    "        x = np.random.choice(data)\n",
    "        sample.append(x)\n",
    "    \n",
    "    return sample\n"
   ]
  },
  {
   "cell_type": "code",
   "execution_count": 8,
   "metadata": {},
   "outputs": [],
   "source": [
    "def get_sample_mean(sample):\n",
    "    return sum(sample) / len(sample)"
   ]
  },
  {
   "cell_type": "code",
   "execution_count": 9,
   "metadata": {},
   "outputs": [],
   "source": [
    "def create_sample_distribution(data, dist_size=100, n=30):\n",
    "    sample_dist = []\n",
    "    while len(sample_dist) != dist_size:\n",
    "        sample = get_sample(data, n)\n",
    "        sample_mean = get_sample_mean(sample)\n",
    "        sample_dist.append(sample_mean)\n",
    "    \n",
    "    return sample_dist\n"
   ]
  },
  {
   "cell_type": "markdown",
   "metadata": {},
   "source": [
    "<a id=\"003\"></a>"
   ]
  },
  {
   "cell_type": "markdown",
   "metadata": {},
   "source": [
    "## 3)  Question #1\n",
    "> ### a) \"Do discounts have a statistically significant effect on the number of products customers order?\"\n",
    "> ### b) \"If so, at what level(s) of discount?\"\n",
    "***\n"
   ]
  },
  {
   "cell_type": "markdown",
   "metadata": {},
   "source": [
    "**3.1** - [Define Hypothesis](#3.1) \n",
    "<br>**3.2** - [Explore Data](#3.2) \n",
    "<br>**3.3** - [Test Data](#3.3) \n",
    "<br>**3.4** - [Interpret Data](#3.4)\n",
    "<br>\n"
   ]
  },
  {
   "cell_type": "markdown",
   "metadata": {},
   "source": [
    "<a id=\"3.1\"></a>"
   ]
  },
  {
   "cell_type": "markdown",
   "metadata": {},
   "source": [
    "### 3.1 - Define Hypothesis"
   ]
  },
  {
   "cell_type": "markdown",
   "metadata": {},
   "source": [
    "$H_O$: Discounts have **NO** significant effect on order quantity.<br> \n",
    "$H_a$: Discounts **HAVE** a significant effect on order quantity.<br> \n",
    "$\\alpha$ = 0.05: The null hypothesis will be rejected if our P-value outcome is below this threshold."
   ]
  },
  {
   "cell_type": "markdown",
   "metadata": {},
   "source": [
    "<a id=\"3.2\"></a>"
   ]
  },
  {
   "cell_type": "markdown",
   "metadata": {},
   "source": [
    "### 3.2 - Explore Data"
   ]
  },
  {
   "cell_type": "code",
   "execution_count": 11,
   "metadata": {},
   "outputs": [],
   "source": [
    "df_Order_Details = pd.read_sql_query(\"\"\"SELECT * FROM OrderDetail;\"\"\", engine)"
   ]
  },
  {
   "cell_type": "code",
   "execution_count": 12,
   "metadata": {
    "scrolled": false
   },
   "outputs": [
    {
     "name": "stdout",
     "output_type": "stream",
     "text": [
      " Order Details Info \n",
      "\n",
      "<class 'pandas.core.frame.DataFrame'>\n",
      "RangeIndex: 2155 entries, 0 to 2154\n",
      "Data columns (total 6 columns):\n",
      "Id           2155 non-null object\n",
      "OrderId      2155 non-null int64\n",
      "ProductId    2155 non-null int64\n",
      "UnitPrice    2155 non-null float64\n",
      "Quantity     2155 non-null int64\n",
      "Discount     2155 non-null float64\n",
      "dtypes: float64(2), int64(3), object(1)\n",
      "memory usage: 101.1+ KB\n",
      "None\n",
      "\n",
      " Order Details Description \n",
      "\n",
      "<bound method NDFrame.describe of             Id  OrderId  ProductId  UnitPrice  Quantity  Discount\n",
      "0     10248/11    10248         11      14.00        12      0.00\n",
      "1     10248/42    10248         42       9.80        10      0.00\n",
      "2     10248/72    10248         72      34.80         5      0.00\n",
      "3     10249/14    10249         14      18.60         9      0.00\n",
      "4     10249/51    10249         51      42.40        40      0.00\n",
      "...        ...      ...        ...        ...       ...       ...\n",
      "2150  11077/64    11077         64      33.25         2      0.03\n",
      "2151  11077/66    11077         66      17.00         1      0.00\n",
      "2152  11077/73    11077         73      15.00         2      0.01\n",
      "2153  11077/75    11077         75       7.75         4      0.00\n",
      "2154  11077/77    11077         77      13.00         2      0.00\n",
      "\n",
      "[2155 rows x 6 columns]>\n",
      "\n",
      " Order Details Shape \n",
      "\n",
      "(2155, 6)\n",
      "\n",
      " Order Details Preview \n",
      "\n"
     ]
    },
    {
     "data": {
      "text/html": [
       "<div>\n",
       "<style scoped>\n",
       "    .dataframe tbody tr th:only-of-type {\n",
       "        vertical-align: middle;\n",
       "    }\n",
       "\n",
       "    .dataframe tbody tr th {\n",
       "        vertical-align: top;\n",
       "    }\n",
       "\n",
       "    .dataframe thead th {\n",
       "        text-align: right;\n",
       "    }\n",
       "</style>\n",
       "<table border=\"1\" class=\"dataframe\">\n",
       "  <thead>\n",
       "    <tr style=\"text-align: right;\">\n",
       "      <th></th>\n",
       "      <th>Id</th>\n",
       "      <th>OrderId</th>\n",
       "      <th>ProductId</th>\n",
       "      <th>UnitPrice</th>\n",
       "      <th>Quantity</th>\n",
       "      <th>Discount</th>\n",
       "    </tr>\n",
       "  </thead>\n",
       "  <tbody>\n",
       "    <tr>\n",
       "      <td>0</td>\n",
       "      <td>10248/11</td>\n",
       "      <td>10248</td>\n",
       "      <td>11</td>\n",
       "      <td>14.0</td>\n",
       "      <td>12</td>\n",
       "      <td>0.0</td>\n",
       "    </tr>\n",
       "    <tr>\n",
       "      <td>1</td>\n",
       "      <td>10248/42</td>\n",
       "      <td>10248</td>\n",
       "      <td>42</td>\n",
       "      <td>9.8</td>\n",
       "      <td>10</td>\n",
       "      <td>0.0</td>\n",
       "    </tr>\n",
       "    <tr>\n",
       "      <td>2</td>\n",
       "      <td>10248/72</td>\n",
       "      <td>10248</td>\n",
       "      <td>72</td>\n",
       "      <td>34.8</td>\n",
       "      <td>5</td>\n",
       "      <td>0.0</td>\n",
       "    </tr>\n",
       "    <tr>\n",
       "      <td>3</td>\n",
       "      <td>10249/14</td>\n",
       "      <td>10249</td>\n",
       "      <td>14</td>\n",
       "      <td>18.6</td>\n",
       "      <td>9</td>\n",
       "      <td>0.0</td>\n",
       "    </tr>\n",
       "    <tr>\n",
       "      <td>4</td>\n",
       "      <td>10249/51</td>\n",
       "      <td>10249</td>\n",
       "      <td>51</td>\n",
       "      <td>42.4</td>\n",
       "      <td>40</td>\n",
       "      <td>0.0</td>\n",
       "    </tr>\n",
       "  </tbody>\n",
       "</table>\n",
       "</div>"
      ],
      "text/plain": [
       "         Id  OrderId  ProductId  UnitPrice  Quantity  Discount\n",
       "0  10248/11    10248         11       14.0        12       0.0\n",
       "1  10248/42    10248         42        9.8        10       0.0\n",
       "2  10248/72    10248         72       34.8         5       0.0\n",
       "3  10249/14    10249         14       18.6         9       0.0\n",
       "4  10249/51    10249         51       42.4        40       0.0"
      ]
     },
     "execution_count": 12,
     "metadata": {},
     "output_type": "execute_result"
    }
   ],
   "source": [
    "print(' Order Details Info \\n')\n",
    "print(df_Order_Details.info())\n",
    "print('\\n Order Details Description \\n')\n",
    "print(df_Order_Details.describe)\n",
    "print('\\n Order Details Shape \\n')\n",
    "print(df_Order_Details.shape)\n",
    "print('\\n Order Details Preview \\n')\n",
    "df_Order_Details.head()"
   ]
  },
  {
   "cell_type": "markdown",
   "metadata": {},
   "source": [
    "<br> **No null values to account for.**\n",
    "<br> **Drop columns 'ProductId' and 'OrderId' since they do not impact this particular question.**\n",
    "<br>**Due to insufficient data, drop (0.01, 0.02, 0.03, 0.04, 0.06)** \n",
    "<br>"
   ]
  },
  {
   "cell_type": "code",
   "execution_count": 13,
   "metadata": {
    "scrolled": true
   },
   "outputs": [
    {
     "name": "stdout",
     "output_type": "stream",
     "text": [
      "\n",
      " Null Values in \"Discount\": \n",
      "\n",
      "0\n",
      "\n",
      " Value Counts in \"Discount\":\n"
     ]
    },
    {
     "data": {
      "text/plain": [
       "0.00    1317\n",
       "0.05     185\n",
       "0.10     173\n",
       "0.20     161\n",
       "0.15     157\n",
       "0.25     154\n",
       "0.03       3\n",
       "0.02       2\n",
       "0.01       1\n",
       "0.04       1\n",
       "0.06       1\n",
       "Name: Discount, dtype: int64"
      ]
     },
     "execution_count": 13,
     "metadata": {},
     "output_type": "execute_result"
    }
   ],
   "source": [
    "print('\\n Null Values in \"Discount\": \\n')\n",
    "print(df_Order_Details.Discount.isna().sum())\n",
    "print('\\n Value Counts in \"Discount\":')\n",
    "df_Order_Details.Discount.value_counts()"
   ]
  },
  {
   "cell_type": "code",
   "execution_count": 14,
   "metadata": {},
   "outputs": [
    {
     "name": "stdout",
     "output_type": "stream",
     "text": [
      "\n",
      " Drop Columns in \"Order Details\": \n",
      "\n"
     ]
    },
    {
     "data": {
      "text/html": [
       "<div>\n",
       "<style scoped>\n",
       "    .dataframe tbody tr th:only-of-type {\n",
       "        vertical-align: middle;\n",
       "    }\n",
       "\n",
       "    .dataframe tbody tr th {\n",
       "        vertical-align: top;\n",
       "    }\n",
       "\n",
       "    .dataframe thead th {\n",
       "        text-align: right;\n",
       "    }\n",
       "</style>\n",
       "<table border=\"1\" class=\"dataframe\">\n",
       "  <thead>\n",
       "    <tr style=\"text-align: right;\">\n",
       "      <th></th>\n",
       "      <th>ProductId</th>\n",
       "      <th>UnitPrice</th>\n",
       "      <th>Quantity</th>\n",
       "      <th>Discount</th>\n",
       "    </tr>\n",
       "  </thead>\n",
       "  <tbody>\n",
       "    <tr>\n",
       "      <td>0</td>\n",
       "      <td>11</td>\n",
       "      <td>14.0</td>\n",
       "      <td>12</td>\n",
       "      <td>0.0</td>\n",
       "    </tr>\n",
       "    <tr>\n",
       "      <td>1</td>\n",
       "      <td>42</td>\n",
       "      <td>9.8</td>\n",
       "      <td>10</td>\n",
       "      <td>0.0</td>\n",
       "    </tr>\n",
       "    <tr>\n",
       "      <td>2</td>\n",
       "      <td>72</td>\n",
       "      <td>34.8</td>\n",
       "      <td>5</td>\n",
       "      <td>0.0</td>\n",
       "    </tr>\n",
       "    <tr>\n",
       "      <td>3</td>\n",
       "      <td>14</td>\n",
       "      <td>18.6</td>\n",
       "      <td>9</td>\n",
       "      <td>0.0</td>\n",
       "    </tr>\n",
       "    <tr>\n",
       "      <td>4</td>\n",
       "      <td>51</td>\n",
       "      <td>42.4</td>\n",
       "      <td>40</td>\n",
       "      <td>0.0</td>\n",
       "    </tr>\n",
       "  </tbody>\n",
       "</table>\n",
       "</div>"
      ],
      "text/plain": [
       "   ProductId  UnitPrice  Quantity  Discount\n",
       "0         11       14.0        12       0.0\n",
       "1         42        9.8        10       0.0\n",
       "2         72       34.8         5       0.0\n",
       "3         14       18.6         9       0.0\n",
       "4         51       42.4        40       0.0"
      ]
     },
     "execution_count": 14,
     "metadata": {},
     "output_type": "execute_result"
    }
   ],
   "source": [
    "print('\\n Drop Columns in \"Order Details\": \\n')\n",
    "df_Order_Details = df_Order_Details.drop(['OrderId','Id'], axis=1)\n",
    "df_Order_Details.head()"
   ]
  },
  {
   "cell_type": "code",
   "execution_count": 15,
   "metadata": {},
   "outputs": [
    {
     "name": "stdout",
     "output_type": "stream",
     "text": [
      "\n",
      " Updated Discount Categories\n",
      "0.00    1317\n",
      "0.05     185\n",
      "0.10     173\n",
      "0.20     161\n",
      "0.15     157\n",
      "0.25     154\n",
      "Name: Discount, dtype: int64\n"
     ]
    }
   ],
   "source": [
    "df_Discounts = (df_Order_Details['Discount']==0.00) | (df_Order_Details['Discount']==0.05) | (df_Order_Details['Discount']==0.10) | (df_Order_Details['Discount']==0.15) | (df_Order_Details['Discount']==0.20) | (df_Order_Details['Discount']==0.25)\n",
    "df_updated = df_Order_Details.loc[df_Discounts]\n",
    "print('\\n Updated Discount Categories')\n",
    "print(df_updated.Discount.value_counts())"
   ]
  },
  {
   "cell_type": "markdown",
   "metadata": {},
   "source": [
    "**Visualize Relationships**"
   ]
  },
  {
   "cell_type": "code",
   "execution_count": 16,
   "metadata": {
    "scrolled": true
   },
   "outputs": [
    {
     "data": {
      "image/png": "[encoded data removed]",
      "text/plain": [
       "<Figure size 720x720 with 20 Axes>"
      ]
     },
     "metadata": {
      "needs_background": "light"
     },
     "output_type": "display_data"
    }
   ],
   "source": [
    "sns.pairplot(df_updated, diag_kind='kde');"
   ]
  },
  {
   "cell_type": "code",
   "execution_count": 17,
   "metadata": {},
   "outputs": [
    {
     "data": {
      "image/png": "[encoded data removed]",
      "text/plain": [
       "<Figure size 432x288 with 1 Axes>"
      ]
     },
     "metadata": {
      "needs_background": "light"
     },
     "output_type": "display_data"
    }
   ],
   "source": [
    "sns.countplot(x='Discount', data=df_updated, palette=\"bright\");\n",
    "plt.title('Total Sold per Discount Offered', fontweight='bold')\n",
    "plt.show()"
   ]
  },
  {
   "cell_type": "markdown",
   "metadata": {},
   "source": [
    "**EXAMINE OUTLIERS**"
   ]
  },
  {
   "cell_type": "code",
   "execution_count": 18,
   "metadata": {
    "scrolled": true
   },
   "outputs": [
    {
     "name": "stdout",
     "output_type": "stream",
     "text": [
      "\n",
      " Quantity per Discount Level \n",
      "\n"
     ]
    },
    {
     "data": {
      "image/png": "[encoded data removed]",
      "text/plain": [
       "<Figure size 720x432 with 1 Axes>"
      ]
     },
     "metadata": {
      "needs_background": "light"
     },
     "output_type": "display_data"
    }
   ],
   "source": [
    "print('\\n Quantity per Discount Level \\n')\n",
    "df_updated.boxplot('Quantity', by='Discount', vert=False, figsize =(10,6), patch_artist=True);\n",
    "\n",
    "# fig, axs = plt.subplots()\n",
    "# ax.set_title('Outliers in Discount')\n",
    "# ax.set_xlabel('Quantity')\n",
    "# ax.set_ylabel('Discount')\n",
    "# ax  = fig.add_subplot(111)\n",
    "\n",
    "\n"
   ]
  },
  {
   "cell_type": "code",
   "execution_count": 19,
   "metadata": {},
   "outputs": [
    {
     "data": {
      "text/html": [
       "<div>\n",
       "<style scoped>\n",
       "    .dataframe tbody tr th:only-of-type {\n",
       "        vertical-align: middle;\n",
       "    }\n",
       "\n",
       "    .dataframe tbody tr th {\n",
       "        vertical-align: top;\n",
       "    }\n",
       "\n",
       "    .dataframe thead th {\n",
       "        text-align: right;\n",
       "    }\n",
       "</style>\n",
       "<table border=\"1\" class=\"dataframe\">\n",
       "  <thead>\n",
       "    <tr style=\"text-align: right;\">\n",
       "      <th></th>\n",
       "      <th>ProductId</th>\n",
       "      <th>UnitPrice</th>\n",
       "      <th>Quantity</th>\n",
       "      <th>Discount</th>\n",
       "    </tr>\n",
       "  </thead>\n",
       "  <tbody>\n",
       "    <tr>\n",
       "      <td>0</td>\n",
       "      <td>11</td>\n",
       "      <td>14.0</td>\n",
       "      <td>12</td>\n",
       "      <td>0.0</td>\n",
       "    </tr>\n",
       "    <tr>\n",
       "      <td>1</td>\n",
       "      <td>42</td>\n",
       "      <td>9.8</td>\n",
       "      <td>10</td>\n",
       "      <td>0.0</td>\n",
       "    </tr>\n",
       "    <tr>\n",
       "      <td>2</td>\n",
       "      <td>72</td>\n",
       "      <td>34.8</td>\n",
       "      <td>5</td>\n",
       "      <td>0.0</td>\n",
       "    </tr>\n",
       "    <tr>\n",
       "      <td>3</td>\n",
       "      <td>14</td>\n",
       "      <td>18.6</td>\n",
       "      <td>9</td>\n",
       "      <td>0.0</td>\n",
       "    </tr>\n",
       "    <tr>\n",
       "      <td>4</td>\n",
       "      <td>51</td>\n",
       "      <td>42.4</td>\n",
       "      <td>40</td>\n",
       "      <td>0.0</td>\n",
       "    </tr>\n",
       "  </tbody>\n",
       "</table>\n",
       "</div>"
      ],
      "text/plain": [
       "   ProductId  UnitPrice  Quantity  Discount\n",
       "0         11       14.0        12       0.0\n",
       "1         42        9.8        10       0.0\n",
       "2         72       34.8         5       0.0\n",
       "3         14       18.6         9       0.0\n",
       "4         51       42.4        40       0.0"
      ]
     },
     "execution_count": 19,
     "metadata": {},
     "output_type": "execute_result"
    }
   ],
   "source": [
    "df_updated.head()"
   ]
  },
  {
   "cell_type": "code",
   "execution_count": 20,
   "metadata": {},
   "outputs": [],
   "source": [
    "avg_no_discount = df_updated[df_updated['Discount']==0].groupby('ProductId')['Quantity'].mean()\n",
    "avg_discount = df_updated[df_updated['Discount']!=0].groupby('ProductId')['Quantity'].mean()"
   ]
  },
  {
   "cell_type": "code",
   "execution_count": 21,
   "metadata": {},
   "outputs": [],
   "source": [
    "count_no_discount = df_updated[df_updated['Discount']==0].groupby('ProductId')['Quantity'].count()\n",
    "count_discount = df_updated[df_updated['Discount']!=0].groupby('ProductId')['Quantity'].count()"
   ]
  },
  {
   "cell_type": "code",
   "execution_count": 22,
   "metadata": {},
   "outputs": [
    {
     "data": {
      "text/html": [
       "<div>\n",
       "<style scoped>\n",
       "    .dataframe tbody tr th:only-of-type {\n",
       "        vertical-align: middle;\n",
       "    }\n",
       "\n",
       "    .dataframe tbody tr th {\n",
       "        vertical-align: top;\n",
       "    }\n",
       "\n",
       "    .dataframe thead th {\n",
       "        text-align: right;\n",
       "    }\n",
       "</style>\n",
       "<table border=\"1\" class=\"dataframe\">\n",
       "  <thead>\n",
       "    <tr style=\"text-align: right;\">\n",
       "      <th></th>\n",
       "      <th>ProductId</th>\n",
       "      <th>UnitPrice</th>\n",
       "      <th>Quantity</th>\n",
       "      <th>Discount</th>\n",
       "    </tr>\n",
       "  </thead>\n",
       "  <tbody>\n",
       "    <tr>\n",
       "      <td>0</td>\n",
       "      <td>11</td>\n",
       "      <td>14.00</td>\n",
       "      <td>12</td>\n",
       "      <td>0.0</td>\n",
       "    </tr>\n",
       "    <tr>\n",
       "      <td>1</td>\n",
       "      <td>42</td>\n",
       "      <td>9.80</td>\n",
       "      <td>10</td>\n",
       "      <td>0.0</td>\n",
       "    </tr>\n",
       "    <tr>\n",
       "      <td>2</td>\n",
       "      <td>72</td>\n",
       "      <td>34.80</td>\n",
       "      <td>5</td>\n",
       "      <td>0.0</td>\n",
       "    </tr>\n",
       "    <tr>\n",
       "      <td>3</td>\n",
       "      <td>14</td>\n",
       "      <td>18.60</td>\n",
       "      <td>9</td>\n",
       "      <td>0.0</td>\n",
       "    </tr>\n",
       "    <tr>\n",
       "      <td>4</td>\n",
       "      <td>51</td>\n",
       "      <td>42.40</td>\n",
       "      <td>40</td>\n",
       "      <td>0.0</td>\n",
       "    </tr>\n",
       "    <tr>\n",
       "      <td>...</td>\n",
       "      <td>...</td>\n",
       "      <td>...</td>\n",
       "      <td>...</td>\n",
       "      <td>...</td>\n",
       "    </tr>\n",
       "    <tr>\n",
       "      <td>2147</td>\n",
       "      <td>52</td>\n",
       "      <td>7.00</td>\n",
       "      <td>2</td>\n",
       "      <td>0.0</td>\n",
       "    </tr>\n",
       "    <tr>\n",
       "      <td>2148</td>\n",
       "      <td>55</td>\n",
       "      <td>24.00</td>\n",
       "      <td>2</td>\n",
       "      <td>0.0</td>\n",
       "    </tr>\n",
       "    <tr>\n",
       "      <td>2151</td>\n",
       "      <td>66</td>\n",
       "      <td>17.00</td>\n",
       "      <td>1</td>\n",
       "      <td>0.0</td>\n",
       "    </tr>\n",
       "    <tr>\n",
       "      <td>2153</td>\n",
       "      <td>75</td>\n",
       "      <td>7.75</td>\n",
       "      <td>4</td>\n",
       "      <td>0.0</td>\n",
       "    </tr>\n",
       "    <tr>\n",
       "      <td>2154</td>\n",
       "      <td>77</td>\n",
       "      <td>13.00</td>\n",
       "      <td>2</td>\n",
       "      <td>0.0</td>\n",
       "    </tr>\n",
       "  </tbody>\n",
       "</table>\n",
       "<p>2147 rows × 4 columns</p>\n",
       "</div>"
      ],
      "text/plain": [
       "      ProductId  UnitPrice  Quantity  Discount\n",
       "0            11      14.00        12       0.0\n",
       "1            42       9.80        10       0.0\n",
       "2            72      34.80         5       0.0\n",
       "3            14      18.60         9       0.0\n",
       "4            51      42.40        40       0.0\n",
       "...         ...        ...       ...       ...\n",
       "2147         52       7.00         2       0.0\n",
       "2148         55      24.00         2       0.0\n",
       "2151         66      17.00         1       0.0\n",
       "2153         75       7.75         4       0.0\n",
       "2154         77      13.00         2       0.0\n",
       "\n",
       "[2147 rows x 4 columns]"
      ]
     },
     "execution_count": 22,
     "metadata": {},
     "output_type": "execute_result"
    }
   ],
   "source": [
    "df_updated"
   ]
  },
  {
   "cell_type": "markdown",
   "metadata": {},
   "source": [
    "<a id=\"3.3\"></a>"
   ]
  },
  {
   "cell_type": "markdown",
   "metadata": {},
   "source": [
    "### 3.3 - Test Data"
   ]
  },
  {
   "cell_type": "markdown",
   "metadata": {},
   "source": [
    "### Shapiro Test for Normality"
   ]
  },
  {
   "cell_type": "code",
   "execution_count": 23,
   "metadata": {},
   "outputs": [
    {
     "name": "stdout",
     "output_type": "stream",
     "text": [
      "Statistics=0.942, p=0.002\n",
      "Non-discounted data does not look normal\n"
     ]
    }
   ],
   "source": [
    "st.shapiro(avg_no_discount)\n",
    "statistic, p = shapiro(avg_no_discount)\n",
    "print('Statistics=%.3f, p=%.3f' % (statistic, p))\n",
    "alpha = .05\n",
    "if p > alpha:\n",
    "    print('Non-discounted data looks normal')\n",
    "else:\n",
    "    print('Non-discounted data does not look normal')"
   ]
  },
  {
   "cell_type": "code",
   "execution_count": 24,
   "metadata": {},
   "outputs": [
    {
     "name": "stdout",
     "output_type": "stream",
     "text": [
      "Statistics=0.991, p=0.842\n",
      "Discounted data looks normal\n"
     ]
    }
   ],
   "source": [
    "st.shapiro(avg_discount)\n",
    "statistic, p = shapiro(avg_discount)\n",
    "print('Statistics=%.3f, p=%.3f' % (statistic, p))\n",
    "alpha = .05\n",
    "if p > alpha:\n",
    "    print('Discounted data looks normal')\n",
    "else:\n",
    "    print('Discounted data does not look normal')"
   ]
  },
  {
   "cell_type": "code",
   "execution_count": 25,
   "metadata": {
    "scrolled": false
   },
   "outputs": [
    {
     "name": "stdout",
     "output_type": "stream",
     "text": [
      "Average Orders - No Discounts: 21.811678528213182\n",
      "Average Order - Discounts: 26.719231131216272\n"
     ]
    },
    {
     "data": {
      "image/png": "[encoded data removed]",
      "text/plain": [
       "<Figure size 432x288 with 1 Axes>"
      ]
     },
     "metadata": {
      "needs_background": "light"
     },
     "output_type": "display_data"
    }
   ],
   "source": [
    "sns.distplot(avg_no_discount, label='Mean - No Discount');\n",
    "sns.distplot(avg_discount, label='Mean - Discount');\n",
    "print('Average Orders - No Discounts:', avg_no_discount.mean())\n",
    "print('Average Order - Discounts:', avg_discount.mean())"
   ]
  },
  {
   "cell_type": "code",
   "execution_count": 26,
   "metadata": {},
   "outputs": [
    {
     "name": "stdout",
     "output_type": "stream",
     "text": [
      "p = 0.000155827\n",
      "Data does not look normal\n"
     ]
    }
   ],
   "source": [
    "k2, p = st.normaltest(avg_no_discount)\n",
    "print(\"p = {:g}\".format(p))\n",
    "alpha = 0.05\n",
    "if p > alpha:  \n",
    "    print('Data looks normal')\n",
    "else:\n",
    "    print('Data does not look normal')"
   ]
  },
  {
   "cell_type": "code",
   "execution_count": 27,
   "metadata": {},
   "outputs": [
    {
     "name": "stdout",
     "output_type": "stream",
     "text": [
      "p = 0.782773\n",
      "Data looks normal\n"
     ]
    }
   ],
   "source": [
    "k2, p = st.normaltest(avg_discount)\n",
    "print(\"p = {:g}\".format(p))\n",
    "alpha = 0.05\n",
    "if p > alpha:  \n",
    "    print('Data looks normal')\n",
    "else:\n",
    "    print('Data does not look normal')"
   ]
  },
  {
   "cell_type": "markdown",
   "metadata": {},
   "source": [
    "### Apply Central Limit Theorem"
   ]
  },
  {
   "cell_type": "code",
   "execution_count": 28,
   "metadata": {},
   "outputs": [
    {
     "name": "stdout",
     "output_type": "stream",
     "text": [
      "[20.833333333333332, 30.0, 19.045454545454547, 28.166666666666668, 19.043478260869566]\n"
     ]
    }
   ],
   "source": [
    "# Due to lack of normality and outliers in No Discount, we will apply the Central Limit Theorem.\n",
    "\n",
    "test_sample = get_sample(avg_no_discount, 30)\n",
    "print(test_sample[:5]) "
   ]
  },
  {
   "cell_type": "code",
   "execution_count": 29,
   "metadata": {},
   "outputs": [
    {
     "name": "stdout",
     "output_type": "stream",
     "text": [
      "23.50507269283181\n"
     ]
    }
   ],
   "source": [
    "test_sample2 = get_sample(avg_no_discount, 30)\n",
    "test_sample2_mean = get_sample_mean(test_sample2)\n",
    "print(test_sample2_mean) "
   ]
  },
  {
   "cell_type": "code",
   "execution_count": 30,
   "metadata": {},
   "outputs": [
    {
     "name": "stdout",
     "output_type": "stream",
     "text": [
      "[21.608992074320614, 21.733499527740523, 21.189171232694484, 22.35048833861706, 22.545679260085066]\n"
     ]
    }
   ],
   "source": [
    "test_sample_dist = create_sample_distribution(avg_no_discount)\n",
    "print(test_sample_dist[:5]) "
   ]
  },
  {
   "cell_type": "code",
   "execution_count": 31,
   "metadata": {
    "scrolled": false
   },
   "outputs": [
    {
     "data": {
      "image/png": "[encoded data removed]",
      "text/plain": [
       "<Figure size 432x288 with 1 Axes>"
      ]
     },
     "metadata": {
      "needs_background": "light"
     },
     "output_type": "display_data"
    }
   ],
   "source": [
    "sample_dist_1000 = create_sample_distribution(avg_no_discount, 1000, 30)\n",
    "sns.distplot(sample_dist_1000);"
   ]
  },
  {
   "cell_type": "markdown",
   "metadata": {},
   "source": [
    "### Welch's T-Test"
   ]
  },
  {
   "cell_type": "code",
   "execution_count": 32,
   "metadata": {
    "scrolled": true
   },
   "outputs": [
    {
     "name": "stdout",
     "output_type": "stream",
     "text": [
      "Reject Null Hypothesis\n"
     ]
    }
   ],
   "source": [
    "t_stat, p = stats.ttest_ind(avg_no_discount, avg_discount, equal_var=False)\n",
    "\n",
    "print('Reject Null Hypothesis') if p < 0.05 else print('Failed to reject Null Hypothesis')\n"
   ]
  },
  {
   "cell_type": "code",
   "execution_count": 33,
   "metadata": {},
   "outputs": [
    {
     "data": {
      "image/png": "[encoded data removed]",
      "text/plain": [
       "<Figure size 720x432 with 1 Axes>"
      ]
     },
     "metadata": {
      "needs_background": "light"
     },
     "output_type": "display_data"
    }
   ],
   "source": [
    "def visualization(control, experimental):\n",
    "    plt.figure(figsize=(10,6))\n",
    "    sns.distplot(experimental, bins=50,  label='Avg Discount', color='green')\n",
    "    sns.distplot(control, bins=50,  label='Avg No Discount', color='blue')\n",
    "\n",
    "    plt.axvline(x=control.mean(), color='k', linestyle='--')\n",
    "    plt.axvline(x=experimental.mean(), color='k', linestyle='--')\n",
    "\n",
    "    plt.title('Discount vs No Discount', fontsize=14)\n",
    "    plt.xlabel('Distributions')\n",
    "    plt.ylabel('Frequency')\n",
    "    plt.legend()\n",
    "    plt.show()\n",
    "    \n",
    "visualization(avg_no_discount, avg_discount)"
   ]
  },
  {
   "cell_type": "markdown",
   "metadata": {},
   "source": [
    "### ANOVA Test"
   ]
  },
  {
   "cell_type": "code",
   "execution_count": 34,
   "metadata": {
    "scrolled": true
   },
   "outputs": [
    {
     "data": {
      "text/html": [
       "<div>\n",
       "<style scoped>\n",
       "    .dataframe tbody tr th:only-of-type {\n",
       "        vertical-align: middle;\n",
       "    }\n",
       "\n",
       "    .dataframe tbody tr th {\n",
       "        vertical-align: top;\n",
       "    }\n",
       "\n",
       "    .dataframe thead th {\n",
       "        text-align: right;\n",
       "    }\n",
       "</style>\n",
       "<table border=\"1\" class=\"dataframe\">\n",
       "  <thead>\n",
       "    <tr style=\"text-align: right;\">\n",
       "      <th></th>\n",
       "      <th>sum_sq</th>\n",
       "      <th>df</th>\n",
       "      <th>F</th>\n",
       "      <th>PR(&gt;F)</th>\n",
       "    </tr>\n",
       "  </thead>\n",
       "  <tbody>\n",
       "    <tr>\n",
       "      <td>Discount</td>\n",
       "      <td>12621.238965</td>\n",
       "      <td>1.0</td>\n",
       "      <td>35.487951</td>\n",
       "      <td>2.991487e-09</td>\n",
       "    </tr>\n",
       "    <tr>\n",
       "      <td>Residual</td>\n",
       "      <td>762866.181622</td>\n",
       "      <td>2145.0</td>\n",
       "      <td>NaN</td>\n",
       "      <td>NaN</td>\n",
       "    </tr>\n",
       "  </tbody>\n",
       "</table>\n",
       "</div>"
      ],
      "text/plain": [
       "                 sum_sq      df          F        PR(>F)\n",
       "Discount   12621.238965     1.0  35.487951  2.991487e-09\n",
       "Residual  762866.181622  2145.0        NaN           NaN"
      ]
     },
     "execution_count": 34,
     "metadata": {},
     "output_type": "execute_result"
    }
   ],
   "source": [
    "formula = 'Quantity ~ Discount'\n",
    "lm = ols(formula, df_updated).fit()\n",
    "table = sm.stats.anova_lm(lm, typ=2)\n",
    "table"
   ]
  },
  {
   "cell_type": "markdown",
   "metadata": {},
   "source": [
    "### Cohen's d"
   ]
  },
  {
   "cell_type": "markdown",
   "metadata": {},
   "source": [
    "Interpreting  𝑑 \n",
    "Most people don't have a good sense of how big  𝑑=2.0  is. If you are having trouble visualizing what the result of Cohen’s D means, use these general “rule of thumb” guidelines (which Cohen said should be used cautiously):\n",
    "\n",
    "Small effect = 0.2\n",
    "\n",
    "Medium Effect = 0.5\n",
    "\n",
    "Large Effect = 0.8"
   ]
  },
  {
   "cell_type": "code",
   "execution_count": 35,
   "metadata": {},
   "outputs": [
    {
     "name": "stdout",
     "output_type": "stream",
     "text": [
      "Cohen's d: 0.8202467909418832\n"
     ]
    }
   ],
   "source": [
    "d = Cohen_d(avg_no_discount, avg_discount)\n",
    "print(\"Cohen's d:\", d)\n"
   ]
  },
  {
   "cell_type": "code",
   "execution_count": 36,
   "metadata": {},
   "outputs": [
    {
     "name": "stdout",
     "output_type": "stream",
     "text": [
      "0.4101233954709416\n",
      "overlap 1.352\n",
      "superiority 0.268\n"
     ]
    },
    {
     "data": {
      "image/png": "[encoded data removed]",
      "text/plain": [
       "<Figure size 432x288 with 1 Axes>"
      ]
     },
     "metadata": {
      "needs_background": "light"
     },
     "output_type": "display_data"
    }
   ],
   "source": [
    "plot_pdfs(d)"
   ]
  },
  {
   "cell_type": "markdown",
   "metadata": {},
   "source": [
    "> ### b) \"Is there a difference between discount levels?\""
   ]
  },
  {
   "cell_type": "markdown",
   "metadata": {},
   "source": [
    "$H_O$: There is **NO** significant difference between discount levels.<br> \n",
    "$H_a$: There **IS** a significant effect between discount levels.<br> \n",
    "$\\alpha$ = 0.05: The null hypothesis will be rejected if our P-value outcome is below this threshold."
   ]
  },
  {
   "cell_type": "code",
   "execution_count": 37,
   "metadata": {
    "scrolled": true
   },
   "outputs": [
    {
     "data": {
      "image/png": "[encoded data removed]",
      "text/plain": [
       "<Figure size 720x432 with 1 Axes>"
      ]
     },
     "metadata": {
      "needs_background": "light"
     },
     "output_type": "display_data"
    }
   ],
   "source": [
    "mc_updated = MultiComparison(df_updated.Quantity, df_updated.Discount)\n",
    "mc_upd = mc_updated.tukeyhsd()\n",
    "mc_upd.plot_simultaneous(comparison_name=0.00, figsize=(10,6), ylabel='Discount Percentage', xlabel='Product Quantity');"
   ]
  },
  {
   "cell_type": "code",
   "execution_count": 38,
   "metadata": {},
   "outputs": [
    {
     "name": "stdout",
     "output_type": "stream",
     "text": [
      "\n",
      " Updated Discount Categories\n",
      "0.05    185\n",
      "0.10    173\n",
      "0.20    161\n",
      "0.15    157\n",
      "0.25    154\n",
      "Name: Discount, dtype: int64\n"
     ]
    }
   ],
   "source": [
    "only_discount = (df_Order_Details['Discount']==0.05) | (df_Order_Details['Discount']==0.10) | (df_Order_Details['Discount']==0.15) | (df_Order_Details['Discount']==0.20) | (df_Order_Details['Discount']==0.25)\n",
    "df_discounts = df_Order_Details.loc[only_discount]\n",
    "print('\\n Updated Discount Categories')\n",
    "print(df_discounts.Discount.value_counts())"
   ]
  },
  {
   "cell_type": "code",
   "execution_count": 39,
   "metadata": {
    "scrolled": false
   },
   "outputs": [
    {
     "data": {
      "image/png": "[encoded data removed]",
      "text/plain": [
       "<Figure size 720x432 with 1 Axes>"
      ]
     },
     "metadata": {
      "needs_background": "light"
     },
     "output_type": "display_data"
    }
   ],
   "source": [
    "mc_discounts = MultiComparison(df_discounts.Quantity, df_discounts.Discount)\n",
    "mc_discounts_upd = mc_discounts.tukeyhsd()\n",
    "mc_discounts_upd.plot_simultaneous(comparison_name=0.05, figsize=(10,6), ylabel='Discount Percentage', xlabel='Product Quantity');"
   ]
  },
  {
   "cell_type": "code",
   "execution_count": 40,
   "metadata": {},
   "outputs": [
    {
     "data": {
      "text/html": [
       "<div>\n",
       "<style scoped>\n",
       "    .dataframe tbody tr th:only-of-type {\n",
       "        vertical-align: middle;\n",
       "    }\n",
       "\n",
       "    .dataframe tbody tr th {\n",
       "        vertical-align: top;\n",
       "    }\n",
       "\n",
       "    .dataframe thead th {\n",
       "        text-align: right;\n",
       "    }\n",
       "</style>\n",
       "<table border=\"1\" class=\"dataframe\">\n",
       "  <thead>\n",
       "    <tr style=\"text-align: right;\">\n",
       "      <th></th>\n",
       "      <th>ProductId</th>\n",
       "      <th>UnitPrice</th>\n",
       "      <th>Quantity</th>\n",
       "      <th>Discount</th>\n",
       "      <th>avg_revenue</th>\n",
       "    </tr>\n",
       "  </thead>\n",
       "  <tbody>\n",
       "    <tr>\n",
       "      <td>0</td>\n",
       "      <td>11</td>\n",
       "      <td>14.00</td>\n",
       "      <td>12</td>\n",
       "      <td>0.0</td>\n",
       "      <td>168.0</td>\n",
       "    </tr>\n",
       "    <tr>\n",
       "      <td>1</td>\n",
       "      <td>42</td>\n",
       "      <td>9.80</td>\n",
       "      <td>10</td>\n",
       "      <td>0.0</td>\n",
       "      <td>98.0</td>\n",
       "    </tr>\n",
       "    <tr>\n",
       "      <td>2</td>\n",
       "      <td>72</td>\n",
       "      <td>34.80</td>\n",
       "      <td>5</td>\n",
       "      <td>0.0</td>\n",
       "      <td>174.0</td>\n",
       "    </tr>\n",
       "    <tr>\n",
       "      <td>3</td>\n",
       "      <td>14</td>\n",
       "      <td>18.60</td>\n",
       "      <td>9</td>\n",
       "      <td>0.0</td>\n",
       "      <td>167.4</td>\n",
       "    </tr>\n",
       "    <tr>\n",
       "      <td>4</td>\n",
       "      <td>51</td>\n",
       "      <td>42.40</td>\n",
       "      <td>40</td>\n",
       "      <td>0.0</td>\n",
       "      <td>1696.0</td>\n",
       "    </tr>\n",
       "    <tr>\n",
       "      <td>...</td>\n",
       "      <td>...</td>\n",
       "      <td>...</td>\n",
       "      <td>...</td>\n",
       "      <td>...</td>\n",
       "      <td>...</td>\n",
       "    </tr>\n",
       "    <tr>\n",
       "      <td>2147</td>\n",
       "      <td>52</td>\n",
       "      <td>7.00</td>\n",
       "      <td>2</td>\n",
       "      <td>0.0</td>\n",
       "      <td>14.0</td>\n",
       "    </tr>\n",
       "    <tr>\n",
       "      <td>2148</td>\n",
       "      <td>55</td>\n",
       "      <td>24.00</td>\n",
       "      <td>2</td>\n",
       "      <td>0.0</td>\n",
       "      <td>48.0</td>\n",
       "    </tr>\n",
       "    <tr>\n",
       "      <td>2151</td>\n",
       "      <td>66</td>\n",
       "      <td>17.00</td>\n",
       "      <td>1</td>\n",
       "      <td>0.0</td>\n",
       "      <td>17.0</td>\n",
       "    </tr>\n",
       "    <tr>\n",
       "      <td>2153</td>\n",
       "      <td>75</td>\n",
       "      <td>7.75</td>\n",
       "      <td>4</td>\n",
       "      <td>0.0</td>\n",
       "      <td>31.0</td>\n",
       "    </tr>\n",
       "    <tr>\n",
       "      <td>2154</td>\n",
       "      <td>77</td>\n",
       "      <td>13.00</td>\n",
       "      <td>2</td>\n",
       "      <td>0.0</td>\n",
       "      <td>26.0</td>\n",
       "    </tr>\n",
       "  </tbody>\n",
       "</table>\n",
       "<p>2147 rows × 5 columns</p>\n",
       "</div>"
      ],
      "text/plain": [
       "      ProductId  UnitPrice  Quantity  Discount  avg_revenue\n",
       "0            11      14.00        12       0.0        168.0\n",
       "1            42       9.80        10       0.0         98.0\n",
       "2            72      34.80         5       0.0        174.0\n",
       "3            14      18.60         9       0.0        167.4\n",
       "4            51      42.40        40       0.0       1696.0\n",
       "...         ...        ...       ...       ...          ...\n",
       "2147         52       7.00         2       0.0         14.0\n",
       "2148         55      24.00         2       0.0         48.0\n",
       "2151         66      17.00         1       0.0         17.0\n",
       "2153         75       7.75         4       0.0         31.0\n",
       "2154         77      13.00         2       0.0         26.0\n",
       "\n",
       "[2147 rows x 5 columns]"
      ]
     },
     "execution_count": 40,
     "metadata": {},
     "output_type": "execute_result"
    }
   ],
   "source": [
    "df_updated['avg_revenue'] = df_updated.UnitPrice * df_updated.Quantity * (1-df_updated.Discount)\n",
    "df_updated"
   ]
  },
  {
   "cell_type": "code",
   "execution_count": 41,
   "metadata": {},
   "outputs": [
    {
     "data": {
      "image/png": "[encoded data removed]",
      "text/plain": [
       "<Figure size 864x504 with 1 Axes>"
      ]
     },
     "metadata": {
      "needs_background": "light"
     },
     "output_type": "display_data"
    }
   ],
   "source": [
    "flatui = [\"#9b59b6\", \"#3498db\", \"#95a5a6\", \"#e74c3c\", \"#34495e\", \"#2ecc71\"]\n",
    "plt.figure(figsize=(12,7))\n",
    "sns.barplot(x='Discount', y='avg_revenue', data=df_updated, palette=flatui)\n",
    "plt.title(\"Average Order Revenue at Each Discount Level\")\n",
    "plt.xticks(np.arange(6), labels= ['0%', '5%', '10%', '15%', '20%', '25%'])\n",
    "plt.show()"
   ]
  },
  {
   "cell_type": "markdown",
   "metadata": {},
   "source": [
    "<a id=\"3.4\"></a>"
   ]
  },
  {
   "cell_type": "markdown",
   "metadata": {},
   "source": [
    "### 3.4 - Interpret Data"
   ]
  },
  {
   "cell_type": "markdown",
   "metadata": {},
   "source": [
    "<br> We reject the null hypothesis for 1a and fail to reject the null hypothesis for 1b. \n",
    "<br> There is a significant difference between the number of products ordered between discounted and non-discounted items.\n",
    "<br> The average amount of non-discounted items ordered is 21.8. \n",
    "<br> The average amount of discounted items ordered is 26.7. \n",
    "<br> The effect size is considered large. The observable and practical effect is significant.\n",
    "<br> There is not a significant difference when comparing the levels of discounts offered vs items sold. \n"
   ]
  },
  {
   "cell_type": "markdown",
   "metadata": {},
   "source": [
    "<a id=\"3.6\"></a>"
   ]
  },
  {
   "cell_type": "markdown",
   "metadata": {},
   "source": [
    "<a id=\"004\"></a>"
   ]
  },
  {
   "cell_type": "markdown",
   "metadata": {},
   "source": [
    "## 4) Question #2\n",
    "> ### \"Does average product revenue have a statistically significant difference between regions?\"\n",
    "***"
   ]
  },
  {
   "cell_type": "markdown",
   "metadata": {},
   "source": [
    "**4.1** - [Define Hypothesis](#4.1) \n",
    "<br>**4.2** - [Explore Data](#4.2) \n",
    "<br>**4.3** - [Test Data](#4.3) \n",
    "<br>**4.4** - [Interpret Data](#4.4)\n",
    "<br>"
   ]
  },
  {
   "cell_type": "markdown",
   "metadata": {},
   "source": [
    "<a id=\"4.1\"></a>"
   ]
  },
  {
   "cell_type": "markdown",
   "metadata": {},
   "source": [
    "### 4.1 Define Hypothesis"
   ]
  },
  {
   "cell_type": "markdown",
   "metadata": {},
   "source": [
    "$H_O$: There is **NO** significant difference in revenue between regions.<br> \n",
    "$H_a$: There **IS** a significant difference in revenue between regions.<br> \n",
    "$\\alpha$ = 0.05: The null hypothesis will be rejected if our P-value outcome is below this threshold. "
   ]
  },
  {
   "cell_type": "markdown",
   "metadata": {},
   "source": [
    "<a id=\"4.2\"></a>"
   ]
  },
  {
   "cell_type": "markdown",
   "metadata": {},
   "source": [
    "### 4.2 Explore Data"
   ]
  },
  {
   "cell_type": "code",
   "execution_count": 42,
   "metadata": {},
   "outputs": [
    {
     "data": {
      "text/html": [
       "<div>\n",
       "<style scoped>\n",
       "    .dataframe tbody tr th:only-of-type {\n",
       "        vertical-align: middle;\n",
       "    }\n",
       "\n",
       "    .dataframe tbody tr th {\n",
       "        vertical-align: top;\n",
       "    }\n",
       "\n",
       "    .dataframe thead th {\n",
       "        text-align: right;\n",
       "    }\n",
       "</style>\n",
       "<table border=\"1\" class=\"dataframe\">\n",
       "  <thead>\n",
       "    <tr style=\"text-align: right;\">\n",
       "      <th></th>\n",
       "      <th>Region</th>\n",
       "      <th>OrderId</th>\n",
       "      <th>Quantity</th>\n",
       "      <th>UnitPrice</th>\n",
       "      <th>Discount</th>\n",
       "    </tr>\n",
       "  </thead>\n",
       "  <tbody>\n",
       "    <tr>\n",
       "      <td>0</td>\n",
       "      <td>Western Europe</td>\n",
       "      <td>10248</td>\n",
       "      <td>12</td>\n",
       "      <td>14.0</td>\n",
       "      <td>0.0</td>\n",
       "    </tr>\n",
       "    <tr>\n",
       "      <td>1</td>\n",
       "      <td>Western Europe</td>\n",
       "      <td>10248</td>\n",
       "      <td>10</td>\n",
       "      <td>9.8</td>\n",
       "      <td>0.0</td>\n",
       "    </tr>\n",
       "    <tr>\n",
       "      <td>2</td>\n",
       "      <td>Western Europe</td>\n",
       "      <td>10248</td>\n",
       "      <td>5</td>\n",
       "      <td>34.8</td>\n",
       "      <td>0.0</td>\n",
       "    </tr>\n",
       "    <tr>\n",
       "      <td>3</td>\n",
       "      <td>Western Europe</td>\n",
       "      <td>10249</td>\n",
       "      <td>9</td>\n",
       "      <td>18.6</td>\n",
       "      <td>0.0</td>\n",
       "    </tr>\n",
       "    <tr>\n",
       "      <td>4</td>\n",
       "      <td>Western Europe</td>\n",
       "      <td>10249</td>\n",
       "      <td>40</td>\n",
       "      <td>42.4</td>\n",
       "      <td>0.0</td>\n",
       "    </tr>\n",
       "  </tbody>\n",
       "</table>\n",
       "</div>"
      ],
      "text/plain": [
       "           Region  OrderId  Quantity  UnitPrice  Discount\n",
       "0  Western Europe    10248        12       14.0       0.0\n",
       "1  Western Europe    10248        10        9.8       0.0\n",
       "2  Western Europe    10248         5       34.8       0.0\n",
       "3  Western Europe    10249         9       18.6       0.0\n",
       "4  Western Europe    10249        40       42.4       0.0"
      ]
     },
     "execution_count": 42,
     "metadata": {},
     "output_type": "execute_result"
    }
   ],
   "source": [
    "region_rev = pd.read_sql_query('''SELECT c.Region, od.OrderId, od.Quantity, od.UnitPrice, od.Discount\n",
    "    FROM Customer c\n",
    "    JOIN [Order] o ON c.Id = o.CustomerId\n",
    "    JOIN OrderDetail od ON od.OrderId = o.Id''', engine)\n",
    "region_rev.head()"
   ]
  },
  {
   "cell_type": "code",
   "execution_count": 43,
   "metadata": {},
   "outputs": [
    {
     "data": {
      "text/html": [
       "<div>\n",
       "<style scoped>\n",
       "    .dataframe tbody tr th:only-of-type {\n",
       "        vertical-align: middle;\n",
       "    }\n",
       "\n",
       "    .dataframe tbody tr th {\n",
       "        vertical-align: top;\n",
       "    }\n",
       "\n",
       "    .dataframe thead th {\n",
       "        text-align: right;\n",
       "    }\n",
       "</style>\n",
       "<table border=\"1\" class=\"dataframe\">\n",
       "  <thead>\n",
       "    <tr style=\"text-align: right;\">\n",
       "      <th></th>\n",
       "      <th>Region</th>\n",
       "      <th>total_revenue</th>\n",
       "    </tr>\n",
       "  </thead>\n",
       "  <tbody>\n",
       "    <tr>\n",
       "      <td>0</td>\n",
       "      <td>British Isles</td>\n",
       "      <td>479.4</td>\n",
       "    </tr>\n",
       "    <tr>\n",
       "      <td>1</td>\n",
       "      <td>British Isles</td>\n",
       "      <td>2645.0</td>\n",
       "    </tr>\n",
       "    <tr>\n",
       "      <td>2</td>\n",
       "      <td>British Isles</td>\n",
       "      <td>1762.0</td>\n",
       "    </tr>\n",
       "    <tr>\n",
       "      <td>3</td>\n",
       "      <td>British Isles</td>\n",
       "      <td>516.8</td>\n",
       "    </tr>\n",
       "    <tr>\n",
       "      <td>4</td>\n",
       "      <td>British Isles</td>\n",
       "      <td>240.4</td>\n",
       "    </tr>\n",
       "  </tbody>\n",
       "</table>\n",
       "</div>"
      ],
      "text/plain": [
       "          Region  total_revenue\n",
       "0  British Isles          479.4\n",
       "1  British Isles         2645.0\n",
       "2  British Isles         1762.0\n",
       "3  British Isles          516.8\n",
       "4  British Isles          240.4"
      ]
     },
     "execution_count": 43,
     "metadata": {},
     "output_type": "execute_result"
    }
   ],
   "source": [
    "region_rev['total_revenue'] = region_rev.UnitPrice * region_rev.Quantity * (1 - region_rev.Discount)\n",
    "region_rev = region_rev.drop(['UnitPrice','Quantity','Discount'], axis=1)\n",
    "region_rev = region_rev.groupby(['Region','OrderId'])['total_revenue'].sum().reset_index()\n",
    "region_rev = region_rev.drop('OrderId', axis=1)\n",
    "region_rev.head()"
   ]
  },
  {
   "cell_type": "code",
   "execution_count": 44,
   "metadata": {},
   "outputs": [],
   "source": [
    "region_rev.loc[(region_rev.Region == 'South America') | (region_rev.Region == 'Central America'), 'Region'] = 'South & Central America'\n",
    "region_rev.loc[(region_rev.Region == 'Eastern Europe') | (region_rev.Region == 'Southern Europe'), 'Region'] = 'Eastern & Southern Europe'\n",
    "region_rev.loc[(region_rev.Region == 'Northern Europe') | (region_rev.Region == 'Scandinavia'), 'Region'] = 'Scandinavia & Northern Europe'"
   ]
  },
  {
   "cell_type": "code",
   "execution_count": 45,
   "metadata": {},
   "outputs": [
    {
     "data": {
      "text/html": [
       "<div>\n",
       "<style scoped>\n",
       "    .dataframe tbody tr th:only-of-type {\n",
       "        vertical-align: middle;\n",
       "    }\n",
       "\n",
       "    .dataframe tbody tr th {\n",
       "        vertical-align: top;\n",
       "    }\n",
       "\n",
       "    .dataframe thead th {\n",
       "        text-align: right;\n",
       "    }\n",
       "</style>\n",
       "<table border=\"1\" class=\"dataframe\">\n",
       "  <thead>\n",
       "    <tr style=\"text-align: right;\">\n",
       "      <th></th>\n",
       "      <th>total_revenue</th>\n",
       "    </tr>\n",
       "    <tr>\n",
       "      <th>Region</th>\n",
       "      <th></th>\n",
       "    </tr>\n",
       "  </thead>\n",
       "  <tbody>\n",
       "    <tr>\n",
       "      <td>British Isles</td>\n",
       "      <td>75</td>\n",
       "    </tr>\n",
       "    <tr>\n",
       "      <td>Eastern &amp; Southern Europe</td>\n",
       "      <td>71</td>\n",
       "    </tr>\n",
       "    <tr>\n",
       "      <td>North America</td>\n",
       "      <td>152</td>\n",
       "    </tr>\n",
       "    <tr>\n",
       "      <td>Scandinavia &amp; Northern Europe</td>\n",
       "      <td>83</td>\n",
       "    </tr>\n",
       "    <tr>\n",
       "      <td>South &amp; Central America</td>\n",
       "      <td>148</td>\n",
       "    </tr>\n",
       "    <tr>\n",
       "      <td>Western Europe</td>\n",
       "      <td>272</td>\n",
       "    </tr>\n",
       "  </tbody>\n",
       "</table>\n",
       "</div>"
      ],
      "text/plain": [
       "                               total_revenue\n",
       "Region                                      \n",
       "British Isles                             75\n",
       "Eastern & Southern Europe                 71\n",
       "North America                            152\n",
       "Scandinavia & Northern Europe             83\n",
       "South & Central America                  148\n",
       "Western Europe                           272"
      ]
     },
     "execution_count": 45,
     "metadata": {},
     "output_type": "execute_result"
    }
   ],
   "source": [
    "region_rev.groupby('Region').count()"
   ]
  },
  {
   "cell_type": "code",
   "execution_count": 46,
   "metadata": {},
   "outputs": [
    {
     "data": {
      "text/html": [
       "<div>\n",
       "<style scoped>\n",
       "    .dataframe tbody tr th:only-of-type {\n",
       "        vertical-align: middle;\n",
       "    }\n",
       "\n",
       "    .dataframe tbody tr th {\n",
       "        vertical-align: top;\n",
       "    }\n",
       "\n",
       "    .dataframe thead th {\n",
       "        text-align: right;\n",
       "    }\n",
       "</style>\n",
       "<table border=\"1\" class=\"dataframe\">\n",
       "  <thead>\n",
       "    <tr style=\"text-align: right;\">\n",
       "      <th></th>\n",
       "      <th>Region</th>\n",
       "      <th>total_revenue</th>\n",
       "    </tr>\n",
       "  </thead>\n",
       "  <tbody>\n",
       "    <tr>\n",
       "      <td>529</td>\n",
       "      <td>Western Europe</td>\n",
       "      <td>440.0000</td>\n",
       "    </tr>\n",
       "    <tr>\n",
       "      <td>530</td>\n",
       "      <td>Western Europe</td>\n",
       "      <td>1863.4000</td>\n",
       "    </tr>\n",
       "    <tr>\n",
       "      <td>531</td>\n",
       "      <td>Western Europe</td>\n",
       "      <td>654.0600</td>\n",
       "    </tr>\n",
       "    <tr>\n",
       "      <td>532</td>\n",
       "      <td>Western Europe</td>\n",
       "      <td>3597.9000</td>\n",
       "    </tr>\n",
       "    <tr>\n",
       "      <td>533</td>\n",
       "      <td>Western Europe</td>\n",
       "      <td>556.6200</td>\n",
       "    </tr>\n",
       "    <tr>\n",
       "      <td>...</td>\n",
       "      <td>...</td>\n",
       "      <td>...</td>\n",
       "    </tr>\n",
       "    <tr>\n",
       "      <td>250</td>\n",
       "      <td>North America</td>\n",
       "      <td>525.0000</td>\n",
       "    </tr>\n",
       "    <tr>\n",
       "      <td>251</td>\n",
       "      <td>North America</td>\n",
       "      <td>510.0000</td>\n",
       "    </tr>\n",
       "    <tr>\n",
       "      <td>252</td>\n",
       "      <td>North America</td>\n",
       "      <td>4330.4000</td>\n",
       "    </tr>\n",
       "    <tr>\n",
       "      <td>253</td>\n",
       "      <td>North America</td>\n",
       "      <td>928.7500</td>\n",
       "    </tr>\n",
       "    <tr>\n",
       "      <td>254</td>\n",
       "      <td>North America</td>\n",
       "      <td>1255.7205</td>\n",
       "    </tr>\n",
       "  </tbody>\n",
       "</table>\n",
       "<p>424 rows × 2 columns</p>\n",
       "</div>"
      ],
      "text/plain": [
       "             Region  total_revenue\n",
       "529  Western Europe       440.0000\n",
       "530  Western Europe      1863.4000\n",
       "531  Western Europe       654.0600\n",
       "532  Western Europe      3597.9000\n",
       "533  Western Europe       556.6200\n",
       "..              ...            ...\n",
       "250   North America       525.0000\n",
       "251   North America       510.0000\n",
       "252   North America      4330.4000\n",
       "253   North America       928.7500\n",
       "254   North America      1255.7205\n",
       "\n",
       "[424 rows x 2 columns]"
      ]
     },
     "execution_count": 46,
     "metadata": {},
     "output_type": "execute_result"
    }
   ],
   "source": [
    "W_Europe = region_rev[region_rev['Region'] == 'Western Europe'] \n",
    "N_America = region_rev[region_rev['Region'] == 'North America'] \n",
    "WE_NA = pd.concat([W_Europe, N_America], axis=0)\n",
    "WE_NA"
   ]
  },
  {
   "cell_type": "markdown",
   "metadata": {},
   "source": [
    "#### Visualize Relationships"
   ]
  },
  {
   "cell_type": "code",
   "execution_count": 47,
   "metadata": {
    "scrolled": true
   },
   "outputs": [
    {
     "data": {
      "image/png": "[encoded data removed]",
      "text/plain": [
       "<Figure size 720x720 with 3 Axes>"
      ]
     },
     "metadata": {
      "needs_background": "light"
     },
     "output_type": "display_data"
    }
   ],
   "source": [
    "fig, (ax1, ax2, ax3) = plt.subplots(3, 1, figsize=(10,10))\n",
    "region_rev.groupby(['Region'])['Region'].count().plot(kind='barh', ax=ax1)\n",
    "region_rev.groupby(['Region'])['total_revenue'].sum().plot(kind='barh', ax=ax2)\n",
    "region_rev.groupby(['Region'])['total_revenue'].mean().plot(kind='barh', ax=ax3)\n",
    "ax1.set_title('Total number of orders')\n",
    "ax1.set_ylabel('')\n",
    "ax2.set_title('Total revenue ($)')\n",
    "ax2.set_ylabel('')\n",
    "ax3.set_title('Average revenue per order ($)')\n",
    "ax3.set_ylabel('')\n",
    "fig.subplots_adjust(hspace=0.6);"
   ]
  },
  {
   "cell_type": "code",
   "execution_count": 48,
   "metadata": {},
   "outputs": [
    {
     "data": {
      "image/png": "[encoded data removed]",
      "text/plain": [
       "<Figure size 720x720 with 3 Axes>"
      ]
     },
     "metadata": {
      "needs_background": "light"
     },
     "output_type": "display_data"
    }
   ],
   "source": [
    "# Plotting the number of orders, total revenue per order and average revenue per order for each region\n",
    "fig, (ax1, ax2, ax3) = plt.subplots(3, 1, figsize=(10,10))\n",
    "WE_NA.groupby(['Region'])['Region'].count().plot(kind='barh', ax=ax1)\n",
    "WE_NA.groupby(['Region'])['total_revenue'].sum().plot(kind='barh', ax=ax2)\n",
    "WE_NA.groupby(['Region'])['total_revenue'].mean().plot(kind='barh', ax=ax3)\n",
    "ax1.set_title('Total number of orders')\n",
    "ax1.set_ylabel('')\n",
    "ax2.set_title('Total revenue ($)')\n",
    "ax2.set_ylabel('')\n",
    "ax3.set_title('Average revenue per order ($)')\n",
    "ax3.set_ylabel('')\n",
    "fig.subplots_adjust(hspace=0.4);"
   ]
  },
  {
   "cell_type": "markdown",
   "metadata": {},
   "source": [
    "<a id=\"4.3\"></a>"
   ]
  },
  {
   "cell_type": "markdown",
   "metadata": {},
   "source": [
    "### 4.3 Test Data"
   ]
  },
  {
   "cell_type": "code",
   "execution_count": 49,
   "metadata": {
    "scrolled": false
   },
   "outputs": [
    {
     "data": {
      "image/png": "[encoded data removed]",
      "text/plain": [
       "<Figure size 432x288 with 1 Axes>"
      ]
     },
     "metadata": {
      "needs_background": "light"
     },
     "output_type": "display_data"
    }
   ],
   "source": [
    "sns.distplot(region_rev.total_revenue);"
   ]
  },
  {
   "cell_type": "code",
   "execution_count": 50,
   "metadata": {},
   "outputs": [
    {
     "name": "stdout",
     "output_type": "stream",
     "text": [
      "Statistic=0.666, p=0.000\n",
      "Data does not look normal\n"
     ]
    }
   ],
   "source": [
    "st.shapiro(region_rev.total_revenue)\n",
    "statistic, p = shapiro(region_rev.total_revenue)\n",
    "print('Statistic=%.3f, p=%.3f' % (statistic, p))\n",
    "alpha = .05\n",
    "if p > alpha:\n",
    "    print('Data looks normal')\n",
    "else:\n",
    "    print('Data does not look normal')"
   ]
  },
  {
   "cell_type": "code",
   "execution_count": 51,
   "metadata": {
    "scrolled": true
   },
   "outputs": [
    {
     "name": "stdout",
     "output_type": "stream",
     "text": [
      "p = 1.09603e-135\n",
      "Data does not look normal\n"
     ]
    }
   ],
   "source": [
    "k2, p = st.normaltest(region_rev.total_revenue)\n",
    "print(\"p = {:g}\".format(p))\n",
    "alpha = 0.05\n",
    "if p > alpha:  \n",
    "    print('Data looks normal')\n",
    "else:\n",
    "    print('Data does not look normal')"
   ]
  },
  {
   "cell_type": "markdown",
   "metadata": {},
   "source": [
    "### Apply Central Limit Theorem"
   ]
  },
  {
   "cell_type": "code",
   "execution_count": 52,
   "metadata": {},
   "outputs": [
    {
     "name": "stdout",
     "output_type": "stream",
     "text": [
      "[252.0, 420.0, 708.75, 100.8, 459.0]\n"
     ]
    }
   ],
   "source": [
    "rr_test = get_sample(region_rev.total_revenue, 30)\n",
    "print(rr_test[:5]) "
   ]
  },
  {
   "cell_type": "code",
   "execution_count": 53,
   "metadata": {},
   "outputs": [
    {
     "name": "stdout",
     "output_type": "stream",
     "text": [
      "1801.9152166666665\n"
     ]
    }
   ],
   "source": [
    "rr_test2 = get_sample(region_rev.total_revenue, 30)\n",
    "rr_test2_mean = get_sample_mean(rr_test2)\n",
    "print(rr_test2_mean) "
   ]
  },
  {
   "cell_type": "code",
   "execution_count": 54,
   "metadata": {},
   "outputs": [
    {
     "name": "stdout",
     "output_type": "stream",
     "text": [
      "[1551.6403333333333, 1963.8006666666668, 980.8811666666664, 1524.2920000000004, 1680.6165]\n"
     ]
    }
   ],
   "source": [
    "test_rr_dist = create_sample_distribution(region_rev.total_revenue)\n",
    "print(test_rr_dist[:5]) "
   ]
  },
  {
   "cell_type": "code",
   "execution_count": 55,
   "metadata": {
    "scrolled": true
   },
   "outputs": [
    {
     "data": {
      "image/png": "[encoded data removed]",
      "text/plain": [
       "<Figure size 432x288 with 1 Axes>"
      ]
     },
     "metadata": {
      "needs_background": "light"
     },
     "output_type": "display_data"
    }
   ],
   "source": [
    "sample_rr_1000 = create_sample_distribution(region_rev.total_revenue, 1000, 30)\n",
    "sns.distplot(sample_rr_1000);"
   ]
  },
  {
   "cell_type": "code",
   "execution_count": 56,
   "metadata": {
    "scrolled": true
   },
   "outputs": [
    {
     "name": "stdout",
     "output_type": "stream",
     "text": [
      "Reject Null Hypothesis\n",
      "P-Value: 8.507683457568792e-06\n"
     ]
    }
   ],
   "source": [
    "t_stat, p = stats.ttest_ind(sample_rr_1000, W_Europe.total_revenue)\n",
    "\n",
    "print('Reject Null Hypothesis') if p < 0.05 else print('Failed to reject Null Hypothesis')\n",
    "print('P-Value:', p)"
   ]
  },
  {
   "cell_type": "code",
   "execution_count": 57,
   "metadata": {},
   "outputs": [
    {
     "name": "stdout",
     "output_type": "stream",
     "text": [
      "Reject Null Hypothesis\n",
      "1.2038345491674104e-07\n"
     ]
    }
   ],
   "source": [
    "t_stat, p = stats.ttest_ind(sample_rr_1000, N_America.total_revenue)\n",
    "\n",
    "print('Reject Null Hypothesis') if p < 0.05 else print('Failed to reject Null Hypothesis')\n",
    "print(p)"
   ]
  },
  {
   "cell_type": "markdown",
   "metadata": {},
   "source": [
    "### ANOVA Test"
   ]
  },
  {
   "cell_type": "code",
   "execution_count": 58,
   "metadata": {
    "scrolled": true
   },
   "outputs": [
    {
     "data": {
      "text/html": [
       "<div>\n",
       "<style scoped>\n",
       "    .dataframe tbody tr th:only-of-type {\n",
       "        vertical-align: middle;\n",
       "    }\n",
       "\n",
       "    .dataframe tbody tr th {\n",
       "        vertical-align: top;\n",
       "    }\n",
       "\n",
       "    .dataframe thead th {\n",
       "        text-align: right;\n",
       "    }\n",
       "</style>\n",
       "<table border=\"1\" class=\"dataframe\">\n",
       "  <thead>\n",
       "    <tr style=\"text-align: right;\">\n",
       "      <th></th>\n",
       "      <th>sum_sq</th>\n",
       "      <th>df</th>\n",
       "      <th>F</th>\n",
       "      <th>PR(&gt;F)</th>\n",
       "    </tr>\n",
       "  </thead>\n",
       "  <tbody>\n",
       "    <tr>\n",
       "      <td>C(Region)</td>\n",
       "      <td>1.386334e+08</td>\n",
       "      <td>5.0</td>\n",
       "      <td>8.469639</td>\n",
       "      <td>8.023836e-08</td>\n",
       "    </tr>\n",
       "    <tr>\n",
       "      <td>Residual</td>\n",
       "      <td>2.602556e+09</td>\n",
       "      <td>795.0</td>\n",
       "      <td>NaN</td>\n",
       "      <td>NaN</td>\n",
       "    </tr>\n",
       "  </tbody>\n",
       "</table>\n",
       "</div>"
      ],
      "text/plain": [
       "                 sum_sq     df         F        PR(>F)\n",
       "C(Region)  1.386334e+08    5.0  8.469639  8.023836e-08\n",
       "Residual   2.602556e+09  795.0       NaN           NaN"
      ]
     },
     "execution_count": 58,
     "metadata": {},
     "output_type": "execute_result"
    }
   ],
   "source": [
    "formula = 'total_revenue ~ C(Region)'\n",
    "lm = ols(formula, region_rev).fit()\n",
    "sm.stats.anova_lm(lm, typ=2)"
   ]
  },
  {
   "cell_type": "markdown",
   "metadata": {},
   "source": [
    "### Cohen's d"
   ]
  },
  {
   "cell_type": "code",
   "execution_count": 59,
   "metadata": {},
   "outputs": [
    {
     "name": "stdout",
     "output_type": "stream",
     "text": [
      "Cohen's d: 0.21585179571564916\n"
     ]
    }
   ],
   "source": [
    "d = Cohen_d(region_rev.total_revenue, N_America.total_revenue)\n",
    "print(\"Cohen's d:\", d)\n"
   ]
  },
  {
   "cell_type": "code",
   "execution_count": 60,
   "metadata": {},
   "outputs": [
    {
     "name": "stdout",
     "output_type": "stream",
     "text": [
      "0.10792589785782458\n",
      "overlap 1.106\n",
      "superiority 0.42\n"
     ]
    },
    {
     "data": {
      "image/png": "[encoded data removed]",
      "text/plain": [
       "<Figure size 432x288 with 1 Axes>"
      ]
     },
     "metadata": {
      "needs_background": "light"
     },
     "output_type": "display_data"
    }
   ],
   "source": [
    "plot_pdfs(d)"
   ]
  },
  {
   "cell_type": "markdown",
   "metadata": {},
   "source": [
    "<a id=\"4.4\"></a>"
   ]
  },
  {
   "cell_type": "markdown",
   "metadata": {},
   "source": [
    "### 4.4 Interpret Data"
   ]
  },
  {
   "cell_type": "markdown",
   "metadata": {},
   "source": [
    "We reject the null hypothesis. \n",
    "<br> There is a significant difference in product revenue per order between regions. \n",
    "<br> Western European customers offer the greatest contribution to Northwind’s bottom line and also place the most orders. \n",
    "<br> North American customers spend slightly more per order although they only place half as many total orders as Western Europe. \n",
    "<br> The difference between the highest  and lowest regions is '$1,945' vs '$686.73' - nearly 3 times higher. \n",
    "<br> The effect size is not significant, however. "
   ]
  },
  {
   "cell_type": "markdown",
   "metadata": {},
   "source": [
    "<a id=\"005\"></a>"
   ]
  },
  {
   "cell_type": "markdown",
   "metadata": {},
   "source": [
    "## 5) Question #3\n",
    "> ### \"Is there a statistically significant difference in efficiency between shipping companies?\"\n",
    "***"
   ]
  },
  {
   "cell_type": "markdown",
   "metadata": {},
   "source": [
    "**5.1** - [Define Hypothesis](#5.1) \n",
    "<br>**5.2** - [Explore Data](#5.2) \n",
    "<br>**5.3** - [Test Data](#5.3) \n",
    "<br>**5.4** - [Interpret Data](#5.4)\n",
    "<br>"
   ]
  },
  {
   "cell_type": "markdown",
   "metadata": {},
   "source": [
    "<a id=\"5.1\"></a>"
   ]
  },
  {
   "cell_type": "markdown",
   "metadata": {},
   "source": [
    "### 5.1 Define Hypothesis"
   ]
  },
  {
   "cell_type": "markdown",
   "metadata": {},
   "source": [
    "$H_O$: Shipping companies have **NO** significant differences in efficiency.<br> \n",
    "$H_a$: Shipping companies **HAVE** significant differences in efficiency.<br> \n",
    "$\\alpha$ = 0.05: The null hypothesis will be rejected if our P-value outcome is below this threshold."
   ]
  },
  {
   "cell_type": "markdown",
   "metadata": {},
   "source": [
    "<a id=\"5.2\"></a>"
   ]
  },
  {
   "cell_type": "markdown",
   "metadata": {},
   "source": [
    "### 5.2 Explore Data\n"
   ]
  },
  {
   "cell_type": "code",
   "execution_count": 61,
   "metadata": {
    "scrolled": true
   },
   "outputs": [
    {
     "data": {
      "text/html": [
       "<div>\n",
       "<style scoped>\n",
       "    .dataframe tbody tr th:only-of-type {\n",
       "        vertical-align: middle;\n",
       "    }\n",
       "\n",
       "    .dataframe tbody tr th {\n",
       "        vertical-align: top;\n",
       "    }\n",
       "\n",
       "    .dataframe thead th {\n",
       "        text-align: right;\n",
       "    }\n",
       "</style>\n",
       "<table border=\"1\" class=\"dataframe\">\n",
       "  <thead>\n",
       "    <tr style=\"text-align: right;\">\n",
       "      <th></th>\n",
       "      <th>CompanyName</th>\n",
       "      <th>Id</th>\n",
       "      <th>ShippedDate</th>\n",
       "      <th>RequiredDate</th>\n",
       "      <th>OrderDate</th>\n",
       "      <th>ShipVia</th>\n",
       "    </tr>\n",
       "  </thead>\n",
       "  <tbody>\n",
       "    <tr>\n",
       "      <td>0</td>\n",
       "      <td>Federal Shipping</td>\n",
       "      <td>3</td>\n",
       "      <td>2012-07-16</td>\n",
       "      <td>2012-08-01</td>\n",
       "      <td>2012-07-04</td>\n",
       "      <td>3</td>\n",
       "    </tr>\n",
       "    <tr>\n",
       "      <td>1</td>\n",
       "      <td>Speedy Express</td>\n",
       "      <td>1</td>\n",
       "      <td>2012-07-10</td>\n",
       "      <td>2012-08-16</td>\n",
       "      <td>2012-07-05</td>\n",
       "      <td>1</td>\n",
       "    </tr>\n",
       "    <tr>\n",
       "      <td>2</td>\n",
       "      <td>United Package</td>\n",
       "      <td>2</td>\n",
       "      <td>2012-07-12</td>\n",
       "      <td>2012-08-05</td>\n",
       "      <td>2012-07-08</td>\n",
       "      <td>2</td>\n",
       "    </tr>\n",
       "    <tr>\n",
       "      <td>3</td>\n",
       "      <td>Speedy Express</td>\n",
       "      <td>1</td>\n",
       "      <td>2012-07-15</td>\n",
       "      <td>2012-08-05</td>\n",
       "      <td>2012-07-08</td>\n",
       "      <td>1</td>\n",
       "    </tr>\n",
       "    <tr>\n",
       "      <td>4</td>\n",
       "      <td>United Package</td>\n",
       "      <td>2</td>\n",
       "      <td>2012-07-11</td>\n",
       "      <td>2012-08-06</td>\n",
       "      <td>2012-07-09</td>\n",
       "      <td>2</td>\n",
       "    </tr>\n",
       "  </tbody>\n",
       "</table>\n",
       "</div>"
      ],
      "text/plain": [
       "        CompanyName  Id ShippedDate RequiredDate   OrderDate  ShipVia\n",
       "0  Federal Shipping   3  2012-07-16   2012-08-01  2012-07-04        3\n",
       "1    Speedy Express   1  2012-07-10   2012-08-16  2012-07-05        1\n",
       "2    United Package   2  2012-07-12   2012-08-05  2012-07-08        2\n",
       "3    Speedy Express   1  2012-07-15   2012-08-05  2012-07-08        1\n",
       "4    United Package   2  2012-07-11   2012-08-06  2012-07-09        2"
      ]
     },
     "execution_count": 61,
     "metadata": {},
     "output_type": "execute_result"
    }
   ],
   "source": [
    "shipper_order = pd.read_sql_query('''SELECT s.CompanyName, s.Id, o.ShippedDate, o.RequiredDate, o.OrderDate, o.ShipVia\n",
    "    FROM [Order] o\n",
    "    JOIN Shipper s ON o.ShipVia = s.Id''', engine)\n",
    "shipper_order.head()"
   ]
  },
  {
   "cell_type": "code",
   "execution_count": 62,
   "metadata": {},
   "outputs": [],
   "source": [
    "shipper_order = shipper_order.drop('ShipVia', axis=1)"
   ]
  },
  {
   "cell_type": "code",
   "execution_count": 63,
   "metadata": {
    "scrolled": true
   },
   "outputs": [
    {
     "data": {
      "text/html": [
       "<div>\n",
       "<style scoped>\n",
       "    .dataframe tbody tr th:only-of-type {\n",
       "        vertical-align: middle;\n",
       "    }\n",
       "\n",
       "    .dataframe tbody tr th {\n",
       "        vertical-align: top;\n",
       "    }\n",
       "\n",
       "    .dataframe thead th {\n",
       "        text-align: right;\n",
       "    }\n",
       "</style>\n",
       "<table border=\"1\" class=\"dataframe\">\n",
       "  <thead>\n",
       "    <tr style=\"text-align: right;\">\n",
       "      <th></th>\n",
       "      <th>Id</th>\n",
       "      <th>ShippedDate</th>\n",
       "      <th>RequiredDate</th>\n",
       "      <th>OrderDate</th>\n",
       "    </tr>\n",
       "    <tr>\n",
       "      <th>CompanyName</th>\n",
       "      <th></th>\n",
       "      <th></th>\n",
       "      <th></th>\n",
       "      <th></th>\n",
       "    </tr>\n",
       "  </thead>\n",
       "  <tbody>\n",
       "    <tr>\n",
       "      <td>Federal Shipping</td>\n",
       "      <td>255</td>\n",
       "      <td>249</td>\n",
       "      <td>255</td>\n",
       "      <td>255</td>\n",
       "    </tr>\n",
       "    <tr>\n",
       "      <td>Speedy Express</td>\n",
       "      <td>249</td>\n",
       "      <td>245</td>\n",
       "      <td>249</td>\n",
       "      <td>249</td>\n",
       "    </tr>\n",
       "    <tr>\n",
       "      <td>United Package</td>\n",
       "      <td>326</td>\n",
       "      <td>315</td>\n",
       "      <td>326</td>\n",
       "      <td>326</td>\n",
       "    </tr>\n",
       "  </tbody>\n",
       "</table>\n",
       "</div>"
      ],
      "text/plain": [
       "                   Id  ShippedDate  RequiredDate  OrderDate\n",
       "CompanyName                                                \n",
       "Federal Shipping  255          249           255        255\n",
       "Speedy Express    249          245           249        249\n",
       "United Package    326          315           326        326"
      ]
     },
     "execution_count": 63,
     "metadata": {},
     "output_type": "execute_result"
    }
   ],
   "source": [
    "shipper_order.groupby('CompanyName').count()"
   ]
  },
  {
   "cell_type": "code",
   "execution_count": 64,
   "metadata": {
    "scrolled": false
   },
   "outputs": [
    {
     "name": "stdout",
     "output_type": "stream",
     "text": [
      "<class 'pandas.core.frame.DataFrame'>\n",
      "RangeIndex: 830 entries, 0 to 829\n",
      "Data columns (total 5 columns):\n",
      "CompanyName     830 non-null object\n",
      "Id              830 non-null int64\n",
      "ShippedDate     809 non-null object\n",
      "RequiredDate    830 non-null object\n",
      "OrderDate       830 non-null object\n",
      "dtypes: int64(1), object(4)\n",
      "memory usage: 32.5+ KB\n"
     ]
    }
   ],
   "source": [
    "shipper_order.info()"
   ]
  },
  {
   "cell_type": "code",
   "execution_count": 65,
   "metadata": {},
   "outputs": [],
   "source": [
    "shipper_order['ShippedDate'] = pd.to_datetime(shipper_order['ShippedDate'], format=\"%Y/%m/%d\") \n",
    "shipper_order['RequiredDate'] = pd.to_datetime(shipper_order['RequiredDate'], format=\"%Y/%m/%d\") \n",
    "shipper_order['OrderDate'] = pd.to_datetime(shipper_order['OrderDate'], format=\"%Y/%m/%d\")"
   ]
  },
  {
   "cell_type": "code",
   "execution_count": 66,
   "metadata": {},
   "outputs": [],
   "source": [
    "ShippedDate = pd.to_datetime(shipper_order['ShippedDate'], format=\"%Y/%m/%d\") \n",
    "RequiredDate = pd.to_datetime(shipper_order['RequiredDate'], format=\"%Y/%m/%d\") \n",
    "OrderDate = pd.to_datetime(shipper_order['OrderDate'], format=\"%Y/%m/%d\")"
   ]
  },
  {
   "cell_type": "code",
   "execution_count": 67,
   "metadata": {},
   "outputs": [
    {
     "data": {
      "text/plain": [
       "0     2012-07-04\n",
       "1     2012-07-05\n",
       "2     2012-07-08\n",
       "3     2012-07-08\n",
       "4     2012-07-09\n",
       "         ...    \n",
       "825   2014-05-05\n",
       "826   2014-05-06\n",
       "827   2014-05-06\n",
       "828   2014-05-06\n",
       "829   2014-05-06\n",
       "Name: OrderDate, Length: 830, dtype: datetime64[ns]"
      ]
     },
     "execution_count": 67,
     "metadata": {},
     "output_type": "execute_result"
    }
   ],
   "source": [
    "OrderDate"
   ]
  },
  {
   "cell_type": "code",
   "execution_count": 68,
   "metadata": {
    "scrolled": true
   },
   "outputs": [
    {
     "data": {
      "text/plain": [
       "7 days     108\n",
       "6 days      91\n",
       "8 days      71\n",
       "3 days      70\n",
       "9 days      70\n",
       "5 days      65\n",
       "4 days      63\n",
       "2 days      58\n",
       "10 days     53\n",
       "12 days     19\n",
       "1 days      18\n",
       "11 days     14\n",
       "21 days      9\n",
       "29 days      8\n",
       "13 days      7\n",
       "19 days      7\n",
       "32 days      7\n",
       "20 days      6\n",
       "15 days      6\n",
       "14 days      6\n",
       "17 days      5\n",
       "25 days      5\n",
       "35 days      5\n",
       "18 days      5\n",
       "23 days      5\n",
       "34 days      4\n",
       "30 days      4\n",
       "22 days      4\n",
       "26 days      3\n",
       "24 days      3\n",
       "28 days      3\n",
       "37 days      2\n",
       "31 days      2\n",
       "27 days      2\n",
       "16 days      1\n",
       "dtype: int64"
      ]
     },
     "execution_count": 68,
     "metadata": {},
     "output_type": "execute_result"
    }
   ],
   "source": [
    "from datetime import datetime\n",
    "\n",
    "end_date = pd.to_datetime(ShippedDate)\n",
    "start_date = pd.to_datetime(OrderDate)\n",
    "time_order_ship = abs((end_date - start_date))\n",
    "\n",
    "time_order_ship.value_counts()"
   ]
  },
  {
   "cell_type": "code",
   "execution_count": 69,
   "metadata": {},
   "outputs": [],
   "source": [
    "shipper_order['time_order_ship'] = time_order_ship"
   ]
  },
  {
   "cell_type": "code",
   "execution_count": 70,
   "metadata": {
    "scrolled": true
   },
   "outputs": [],
   "source": [
    "shipper_order = shipper_order.dropna()"
   ]
  },
  {
   "cell_type": "code",
   "execution_count": 71,
   "metadata": {
    "scrolled": true
   },
   "outputs": [
    {
     "data": {
      "text/plain": [
       "CompanyName        0\n",
       "Id                 0\n",
       "ShippedDate        0\n",
       "RequiredDate       0\n",
       "OrderDate          0\n",
       "time_order_ship    0\n",
       "dtype: int64"
      ]
     },
     "execution_count": 71,
     "metadata": {},
     "output_type": "execute_result"
    }
   ],
   "source": [
    "shipper_order.isna().sum()"
   ]
  },
  {
   "cell_type": "code",
   "execution_count": 72,
   "metadata": {},
   "outputs": [
    {
     "data": {
      "text/html": [
       "<div>\n",
       "<style scoped>\n",
       "    .dataframe tbody tr th:only-of-type {\n",
       "        vertical-align: middle;\n",
       "    }\n",
       "\n",
       "    .dataframe tbody tr th {\n",
       "        vertical-align: top;\n",
       "    }\n",
       "\n",
       "    .dataframe thead th {\n",
       "        text-align: right;\n",
       "    }\n",
       "</style>\n",
       "<table border=\"1\" class=\"dataframe\">\n",
       "  <thead>\n",
       "    <tr style=\"text-align: right;\">\n",
       "      <th></th>\n",
       "      <th>CompanyName</th>\n",
       "      <th>Id</th>\n",
       "      <th>ShippedDate</th>\n",
       "      <th>RequiredDate</th>\n",
       "      <th>OrderDate</th>\n",
       "      <th>time_order_ship</th>\n",
       "    </tr>\n",
       "  </thead>\n",
       "  <tbody>\n",
       "    <tr>\n",
       "      <td>0</td>\n",
       "      <td>Federal Shipping</td>\n",
       "      <td>3</td>\n",
       "      <td>2012-07-16</td>\n",
       "      <td>2012-08-01</td>\n",
       "      <td>2012-07-04</td>\n",
       "      <td>12 days</td>\n",
       "    </tr>\n",
       "    <tr>\n",
       "      <td>1</td>\n",
       "      <td>Speedy Express</td>\n",
       "      <td>1</td>\n",
       "      <td>2012-07-10</td>\n",
       "      <td>2012-08-16</td>\n",
       "      <td>2012-07-05</td>\n",
       "      <td>5 days</td>\n",
       "    </tr>\n",
       "    <tr>\n",
       "      <td>2</td>\n",
       "      <td>United Package</td>\n",
       "      <td>2</td>\n",
       "      <td>2012-07-12</td>\n",
       "      <td>2012-08-05</td>\n",
       "      <td>2012-07-08</td>\n",
       "      <td>4 days</td>\n",
       "    </tr>\n",
       "    <tr>\n",
       "      <td>3</td>\n",
       "      <td>Speedy Express</td>\n",
       "      <td>1</td>\n",
       "      <td>2012-07-15</td>\n",
       "      <td>2012-08-05</td>\n",
       "      <td>2012-07-08</td>\n",
       "      <td>7 days</td>\n",
       "    </tr>\n",
       "    <tr>\n",
       "      <td>4</td>\n",
       "      <td>United Package</td>\n",
       "      <td>2</td>\n",
       "      <td>2012-07-11</td>\n",
       "      <td>2012-08-06</td>\n",
       "      <td>2012-07-09</td>\n",
       "      <td>2 days</td>\n",
       "    </tr>\n",
       "    <tr>\n",
       "      <td>...</td>\n",
       "      <td>...</td>\n",
       "      <td>...</td>\n",
       "      <td>...</td>\n",
       "      <td>...</td>\n",
       "      <td>...</td>\n",
       "      <td>...</td>\n",
       "    </tr>\n",
       "    <tr>\n",
       "      <td>815</td>\n",
       "      <td>United Package</td>\n",
       "      <td>2</td>\n",
       "      <td>2014-05-06</td>\n",
       "      <td>2014-05-28</td>\n",
       "      <td>2014-04-30</td>\n",
       "      <td>6 days</td>\n",
       "    </tr>\n",
       "    <tr>\n",
       "      <td>816</td>\n",
       "      <td>Speedy Express</td>\n",
       "      <td>1</td>\n",
       "      <td>2014-05-04</td>\n",
       "      <td>2014-05-29</td>\n",
       "      <td>2014-05-01</td>\n",
       "      <td>3 days</td>\n",
       "    </tr>\n",
       "    <tr>\n",
       "      <td>818</td>\n",
       "      <td>United Package</td>\n",
       "      <td>2</td>\n",
       "      <td>2014-05-04</td>\n",
       "      <td>2014-05-29</td>\n",
       "      <td>2014-05-01</td>\n",
       "      <td>3 days</td>\n",
       "    </tr>\n",
       "    <tr>\n",
       "      <td>819</td>\n",
       "      <td>United Package</td>\n",
       "      <td>2</td>\n",
       "      <td>2014-05-06</td>\n",
       "      <td>2014-05-18</td>\n",
       "      <td>2014-05-04</td>\n",
       "      <td>2 days</td>\n",
       "    </tr>\n",
       "    <tr>\n",
       "      <td>821</td>\n",
       "      <td>United Package</td>\n",
       "      <td>2</td>\n",
       "      <td>2014-05-06</td>\n",
       "      <td>2014-06-01</td>\n",
       "      <td>2014-05-04</td>\n",
       "      <td>2 days</td>\n",
       "    </tr>\n",
       "  </tbody>\n",
       "</table>\n",
       "<p>809 rows × 6 columns</p>\n",
       "</div>"
      ],
      "text/plain": [
       "          CompanyName  Id ShippedDate RequiredDate  OrderDate time_order_ship\n",
       "0    Federal Shipping   3  2012-07-16   2012-08-01 2012-07-04         12 days\n",
       "1      Speedy Express   1  2012-07-10   2012-08-16 2012-07-05          5 days\n",
       "2      United Package   2  2012-07-12   2012-08-05 2012-07-08          4 days\n",
       "3      Speedy Express   1  2012-07-15   2012-08-05 2012-07-08          7 days\n",
       "4      United Package   2  2012-07-11   2012-08-06 2012-07-09          2 days\n",
       "..                ...  ..         ...          ...        ...             ...\n",
       "815    United Package   2  2014-05-06   2014-05-28 2014-04-30          6 days\n",
       "816    Speedy Express   1  2014-05-04   2014-05-29 2014-05-01          3 days\n",
       "818    United Package   2  2014-05-04   2014-05-29 2014-05-01          3 days\n",
       "819    United Package   2  2014-05-06   2014-05-18 2014-05-04          2 days\n",
       "821    United Package   2  2014-05-06   2014-06-01 2014-05-04          2 days\n",
       "\n",
       "[809 rows x 6 columns]"
      ]
     },
     "execution_count": 72,
     "metadata": {},
     "output_type": "execute_result"
    }
   ],
   "source": [
    "shipper_order"
   ]
  },
  {
   "cell_type": "code",
   "execution_count": 73,
   "metadata": {},
   "outputs": [],
   "source": [
    "Speedy_Express = shipper_order[(shipper_order['Id'] == 1)]\n",
    "United_Package = shipper_order[(shipper_order['Id']==2)]\n",
    "Federal_Shipping = shipper_order[shipper_order['Id']==3]"
   ]
  },
  {
   "cell_type": "code",
   "execution_count": 74,
   "metadata": {},
   "outputs": [
    {
     "data": {
      "text/plain": [
       "1      5 days\n",
       "3      7 days\n",
       "10     6 days\n",
       "12    10 days\n",
       "17    18 days\n",
       "        ...  \n",
       "794    9 days\n",
       "796    8 days\n",
       "801   10 days\n",
       "804    4 days\n",
       "816    3 days\n",
       "Name: time_order_ship, Length: 245, dtype: timedelta64[ns]"
      ]
     },
     "execution_count": 74,
     "metadata": {},
     "output_type": "execute_result"
    }
   ],
   "source": [
    "Speedy_Ex = Speedy_Express['time_order_ship']\n",
    "United_Pack = United_Package['time_order_ship']\n",
    "Federal_Ship = Federal_Shipping['time_order_ship']\n",
    "Speedy_Ex"
   ]
  },
  {
   "cell_type": "code",
   "execution_count": 75,
   "metadata": {
    "scrolled": true
   },
   "outputs": [
    {
     "data": {
      "text/plain": [
       "1      5 days\n",
       "3      7 days\n",
       "10     6 days\n",
       "12    10 days\n",
       "17    18 days\n",
       "        ...  \n",
       "794    9 days\n",
       "796    8 days\n",
       "801   10 days\n",
       "804    4 days\n",
       "816    3 days\n",
       "Name: Speedy, Length: 245, dtype: timedelta64[ns]"
      ]
     },
     "execution_count": 75,
     "metadata": {},
     "output_type": "execute_result"
    }
   ],
   "source": [
    "Speedy_Ex = Speedy_Ex.rename('Speedy')\n",
    "United_Pack = United_Pack.rename('United')\n",
    "Federal_Ship = Federal_Ship.rename('Federal')\n",
    "Speedy_Ex"
   ]
  },
  {
   "cell_type": "code",
   "execution_count": 76,
   "metadata": {
    "scrolled": true
   },
   "outputs": [],
   "source": [
    "Speedy_graph = Speedy_Ex.astype('timedelta64[h]')\n",
    "United_graph = United_Pack.astype('timedelta64[h]')\n",
    "Federal_graph = Federal_Ship.astype('timedelta64[h]')"
   ]
  },
  {
   "cell_type": "code",
   "execution_count": 77,
   "metadata": {
    "scrolled": true
   },
   "outputs": [
    {
     "data": {
      "image/png": "[encoded data removed]",
      "text/plain": [
       "<Figure size 432x288 with 1 Axes>"
      ]
     },
     "metadata": {
      "needs_background": "light"
     },
     "output_type": "display_data"
    }
   ],
   "source": [
    "sns.distplot(Speedy_graph, label='Speedy Express');\n",
    "sns.distplot(United_graph, label='United Package');\n",
    "sns.distplot(Federal_graph, label='Federal Shipping');"
   ]
  },
  {
   "cell_type": "code",
   "execution_count": 78,
   "metadata": {
    "scrolled": true
   },
   "outputs": [
    {
     "data": {
      "text/html": [
       "<div>\n",
       "<style scoped>\n",
       "    .dataframe tbody tr th:only-of-type {\n",
       "        vertical-align: middle;\n",
       "    }\n",
       "\n",
       "    .dataframe tbody tr th {\n",
       "        vertical-align: top;\n",
       "    }\n",
       "\n",
       "    .dataframe thead th {\n",
       "        text-align: right;\n",
       "    }\n",
       "</style>\n",
       "<table border=\"1\" class=\"dataframe\">\n",
       "  <thead>\n",
       "    <tr style=\"text-align: right;\">\n",
       "      <th></th>\n",
       "      <th>Speedy</th>\n",
       "      <th>United</th>\n",
       "      <th>Federal</th>\n",
       "    </tr>\n",
       "  </thead>\n",
       "  <tbody>\n",
       "    <tr>\n",
       "      <td>0</td>\n",
       "      <td>NaN</td>\n",
       "      <td>NaN</td>\n",
       "      <td>288.0</td>\n",
       "    </tr>\n",
       "    <tr>\n",
       "      <td>1</td>\n",
       "      <td>120.0</td>\n",
       "      <td>NaN</td>\n",
       "      <td>NaN</td>\n",
       "    </tr>\n",
       "    <tr>\n",
       "      <td>2</td>\n",
       "      <td>NaN</td>\n",
       "      <td>96.0</td>\n",
       "      <td>NaN</td>\n",
       "    </tr>\n",
       "    <tr>\n",
       "      <td>3</td>\n",
       "      <td>168.0</td>\n",
       "      <td>NaN</td>\n",
       "      <td>NaN</td>\n",
       "    </tr>\n",
       "    <tr>\n",
       "      <td>4</td>\n",
       "      <td>NaN</td>\n",
       "      <td>48.0</td>\n",
       "      <td>NaN</td>\n",
       "    </tr>\n",
       "    <tr>\n",
       "      <td>...</td>\n",
       "      <td>...</td>\n",
       "      <td>...</td>\n",
       "      <td>...</td>\n",
       "    </tr>\n",
       "    <tr>\n",
       "      <td>815</td>\n",
       "      <td>NaN</td>\n",
       "      <td>144.0</td>\n",
       "      <td>NaN</td>\n",
       "    </tr>\n",
       "    <tr>\n",
       "      <td>816</td>\n",
       "      <td>72.0</td>\n",
       "      <td>NaN</td>\n",
       "      <td>NaN</td>\n",
       "    </tr>\n",
       "    <tr>\n",
       "      <td>818</td>\n",
       "      <td>NaN</td>\n",
       "      <td>72.0</td>\n",
       "      <td>NaN</td>\n",
       "    </tr>\n",
       "    <tr>\n",
       "      <td>819</td>\n",
       "      <td>NaN</td>\n",
       "      <td>48.0</td>\n",
       "      <td>NaN</td>\n",
       "    </tr>\n",
       "    <tr>\n",
       "      <td>821</td>\n",
       "      <td>NaN</td>\n",
       "      <td>48.0</td>\n",
       "      <td>NaN</td>\n",
       "    </tr>\n",
       "  </tbody>\n",
       "</table>\n",
       "<p>809 rows × 3 columns</p>\n",
       "</div>"
      ],
      "text/plain": [
       "     Speedy  United  Federal\n",
       "0       NaN     NaN    288.0\n",
       "1     120.0     NaN      NaN\n",
       "2       NaN    96.0      NaN\n",
       "3     168.0     NaN      NaN\n",
       "4       NaN    48.0      NaN\n",
       "..      ...     ...      ...\n",
       "815     NaN   144.0      NaN\n",
       "816    72.0     NaN      NaN\n",
       "818     NaN    72.0      NaN\n",
       "819     NaN    48.0      NaN\n",
       "821     NaN    48.0      NaN\n",
       "\n",
       "[809 rows x 3 columns]"
      ]
     },
     "execution_count": 78,
     "metadata": {},
     "output_type": "execute_result"
    }
   ],
   "source": [
    "shipping_duration = pd.concat([Speedy_graph, United_graph, Federal_graph], axis=1)\n",
    "avg_duration = {'Speedy':(shipping_duration.Speedy.mean() / 24),\n",
    "                'United':(shipping_duration.United.mean() / 24),\n",
    "                'Federal':(shipping_duration.Federal.mean() / 24)}\n",
    "shipping_duration"
   ]
  },
  {
   "cell_type": "code",
   "execution_count": 79,
   "metadata": {},
   "outputs": [
    {
     "data": {
      "text/html": [
       "<div>\n",
       "<style scoped>\n",
       "    .dataframe tbody tr th:only-of-type {\n",
       "        vertical-align: middle;\n",
       "    }\n",
       "\n",
       "    .dataframe tbody tr th {\n",
       "        vertical-align: top;\n",
       "    }\n",
       "\n",
       "    .dataframe thead th {\n",
       "        text-align: right;\n",
       "    }\n",
       "</style>\n",
       "<table border=\"1\" class=\"dataframe\">\n",
       "  <thead>\n",
       "    <tr style=\"text-align: right;\">\n",
       "      <th></th>\n",
       "      <th>index</th>\n",
       "      <th>0</th>\n",
       "    </tr>\n",
       "  </thead>\n",
       "  <tbody>\n",
       "    <tr>\n",
       "      <td>0</td>\n",
       "      <td>0</td>\n",
       "      <td>8.571429</td>\n",
       "    </tr>\n",
       "    <tr>\n",
       "      <td>1</td>\n",
       "      <td>1</td>\n",
       "      <td>9.234921</td>\n",
       "    </tr>\n",
       "    <tr>\n",
       "      <td>2</td>\n",
       "      <td>2</td>\n",
       "      <td>7.473896</td>\n",
       "    </tr>\n",
       "  </tbody>\n",
       "</table>\n",
       "</div>"
      ],
      "text/plain": [
       "   index         0\n",
       "0      0  8.571429\n",
       "1      1  9.234921\n",
       "2      2  7.473896"
      ]
     },
     "execution_count": 79,
     "metadata": {},
     "output_type": "execute_result"
    }
   ],
   "source": [
    "S_mean = (shipping_duration.Speedy.mean() / 24)\n",
    "U_mean = (shipping_duration.United.mean() / 24)\n",
    "F_mean = (shipping_duration.Federal.mean() / 24)\n",
    "ship_mean = pd.DataFrame([S_mean,U_mean,F_mean]).reset_index()\n",
    "ship_mean"
   ]
  },
  {
   "cell_type": "code",
   "execution_count": 80,
   "metadata": {},
   "outputs": [
    {
     "data": {
      "image/png": "[encoded data removed]",
      "text/plain": [
       "<Figure size 288x288 with 1 Axes>"
      ]
     },
     "metadata": {
      "needs_background": "light"
     },
     "output_type": "display_data"
    }
   ],
   "source": [
    "plt.figure(figsize=(4,4))\n",
    "ship_mean[0].plot(kind='bar', color=['green','blue','cyan'])\n",
    "plt.title('Average Days Processing')\n",
    "plt.ylabel('Avg Days')\n",
    "\n",
    "plt.xticks(np.arange(3), labels=['Speedy','United','Federal'])\n",
    "plt.show()"
   ]
  },
  {
   "cell_type": "code",
   "execution_count": 81,
   "metadata": {
    "scrolled": true
   },
   "outputs": [],
   "source": [
    "# t_stat, p = stats.ttest_ind(shipping_duration, Speedy_Ex.Speedy)\n",
    "\n",
    "# print('Reject Null Hypothesis') if p < 0.05 else print('Failed to reject Null Hypothesis')\n",
    "# print(p)"
   ]
  },
  {
   "cell_type": "markdown",
   "metadata": {},
   "source": [
    "### Percentage of Late Shipments"
   ]
  },
  {
   "cell_type": "code",
   "execution_count": 82,
   "metadata": {},
   "outputs": [],
   "source": [
    "from datetime import timedelta\n",
    "end_date2 = pd.to_datetime(RequiredDate)\n",
    "start_date2 = pd.to_datetime(ShippedDate)\n",
    "ship_required = (end_date2 - start_date2)\n",
    "t = timedelta(minutes=0)\n",
    "late_shipments = pd.DataFrame(x for x in ship_required if x < t)\n"
   ]
  },
  {
   "cell_type": "code",
   "execution_count": 83,
   "metadata": {},
   "outputs": [],
   "source": [
    "shipper_order['LateShipments'] = late_shipments"
   ]
  },
  {
   "cell_type": "code",
   "execution_count": 84,
   "metadata": {},
   "outputs": [
    {
     "data": {
      "text/html": [
       "<div>\n",
       "<style scoped>\n",
       "    .dataframe tbody tr th:only-of-type {\n",
       "        vertical-align: middle;\n",
       "    }\n",
       "\n",
       "    .dataframe tbody tr th {\n",
       "        vertical-align: top;\n",
       "    }\n",
       "\n",
       "    .dataframe thead th {\n",
       "        text-align: right;\n",
       "    }\n",
       "</style>\n",
       "<table border=\"1\" class=\"dataframe\">\n",
       "  <thead>\n",
       "    <tr style=\"text-align: right;\">\n",
       "      <th></th>\n",
       "      <th>CompanyName</th>\n",
       "      <th>Id</th>\n",
       "      <th>ShippedDate</th>\n",
       "      <th>RequiredDate</th>\n",
       "      <th>OrderDate</th>\n",
       "      <th>time_order_ship</th>\n",
       "      <th>LateShipments</th>\n",
       "    </tr>\n",
       "  </thead>\n",
       "  <tbody>\n",
       "    <tr>\n",
       "      <td>0</td>\n",
       "      <td>Federal Shipping</td>\n",
       "      <td>3</td>\n",
       "      <td>2012-07-16</td>\n",
       "      <td>2012-08-01</td>\n",
       "      <td>2012-07-04</td>\n",
       "      <td>12 days</td>\n",
       "      <td>-2 days</td>\n",
       "    </tr>\n",
       "    <tr>\n",
       "      <td>1</td>\n",
       "      <td>Speedy Express</td>\n",
       "      <td>1</td>\n",
       "      <td>2012-07-10</td>\n",
       "      <td>2012-08-16</td>\n",
       "      <td>2012-07-05</td>\n",
       "      <td>5 days</td>\n",
       "      <td>-1 days</td>\n",
       "    </tr>\n",
       "    <tr>\n",
       "      <td>2</td>\n",
       "      <td>United Package</td>\n",
       "      <td>2</td>\n",
       "      <td>2012-07-12</td>\n",
       "      <td>2012-08-05</td>\n",
       "      <td>2012-07-08</td>\n",
       "      <td>4 days</td>\n",
       "      <td>-1 days</td>\n",
       "    </tr>\n",
       "    <tr>\n",
       "      <td>3</td>\n",
       "      <td>Speedy Express</td>\n",
       "      <td>1</td>\n",
       "      <td>2012-07-15</td>\n",
       "      <td>2012-08-05</td>\n",
       "      <td>2012-07-08</td>\n",
       "      <td>7 days</td>\n",
       "      <td>-1 days</td>\n",
       "    </tr>\n",
       "    <tr>\n",
       "      <td>4</td>\n",
       "      <td>United Package</td>\n",
       "      <td>2</td>\n",
       "      <td>2012-07-11</td>\n",
       "      <td>2012-08-06</td>\n",
       "      <td>2012-07-09</td>\n",
       "      <td>2 days</td>\n",
       "      <td>-6 days</td>\n",
       "    </tr>\n",
       "    <tr>\n",
       "      <td>...</td>\n",
       "      <td>...</td>\n",
       "      <td>...</td>\n",
       "      <td>...</td>\n",
       "      <td>...</td>\n",
       "      <td>...</td>\n",
       "      <td>...</td>\n",
       "      <td>...</td>\n",
       "    </tr>\n",
       "    <tr>\n",
       "      <td>815</td>\n",
       "      <td>United Package</td>\n",
       "      <td>2</td>\n",
       "      <td>2014-05-06</td>\n",
       "      <td>2014-05-28</td>\n",
       "      <td>2014-04-30</td>\n",
       "      <td>6 days</td>\n",
       "      <td>NaT</td>\n",
       "    </tr>\n",
       "    <tr>\n",
       "      <td>816</td>\n",
       "      <td>Speedy Express</td>\n",
       "      <td>1</td>\n",
       "      <td>2014-05-04</td>\n",
       "      <td>2014-05-29</td>\n",
       "      <td>2014-05-01</td>\n",
       "      <td>3 days</td>\n",
       "      <td>NaT</td>\n",
       "    </tr>\n",
       "    <tr>\n",
       "      <td>818</td>\n",
       "      <td>United Package</td>\n",
       "      <td>2</td>\n",
       "      <td>2014-05-04</td>\n",
       "      <td>2014-05-29</td>\n",
       "      <td>2014-05-01</td>\n",
       "      <td>3 days</td>\n",
       "      <td>NaT</td>\n",
       "    </tr>\n",
       "    <tr>\n",
       "      <td>819</td>\n",
       "      <td>United Package</td>\n",
       "      <td>2</td>\n",
       "      <td>2014-05-06</td>\n",
       "      <td>2014-05-18</td>\n",
       "      <td>2014-05-04</td>\n",
       "      <td>2 days</td>\n",
       "      <td>NaT</td>\n",
       "    </tr>\n",
       "    <tr>\n",
       "      <td>821</td>\n",
       "      <td>United Package</td>\n",
       "      <td>2</td>\n",
       "      <td>2014-05-06</td>\n",
       "      <td>2014-06-01</td>\n",
       "      <td>2014-05-04</td>\n",
       "      <td>2 days</td>\n",
       "      <td>NaT</td>\n",
       "    </tr>\n",
       "  </tbody>\n",
       "</table>\n",
       "<p>809 rows × 7 columns</p>\n",
       "</div>"
      ],
      "text/plain": [
       "          CompanyName  Id ShippedDate RequiredDate  OrderDate time_order_ship  \\\n",
       "0    Federal Shipping   3  2012-07-16   2012-08-01 2012-07-04         12 days   \n",
       "1      Speedy Express   1  2012-07-10   2012-08-16 2012-07-05          5 days   \n",
       "2      United Package   2  2012-07-12   2012-08-05 2012-07-08          4 days   \n",
       "3      Speedy Express   1  2012-07-15   2012-08-05 2012-07-08          7 days   \n",
       "4      United Package   2  2012-07-11   2012-08-06 2012-07-09          2 days   \n",
       "..                ...  ..         ...          ...        ...             ...   \n",
       "815    United Package   2  2014-05-06   2014-05-28 2014-04-30          6 days   \n",
       "816    Speedy Express   1  2014-05-04   2014-05-29 2014-05-01          3 days   \n",
       "818    United Package   2  2014-05-04   2014-05-29 2014-05-01          3 days   \n",
       "819    United Package   2  2014-05-06   2014-05-18 2014-05-04          2 days   \n",
       "821    United Package   2  2014-05-06   2014-06-01 2014-05-04          2 days   \n",
       "\n",
       "    LateShipments  \n",
       "0         -2 days  \n",
       "1         -1 days  \n",
       "2         -1 days  \n",
       "3         -1 days  \n",
       "4         -6 days  \n",
       "..            ...  \n",
       "815           NaT  \n",
       "816           NaT  \n",
       "818           NaT  \n",
       "819           NaT  \n",
       "821           NaT  \n",
       "\n",
       "[809 rows x 7 columns]"
      ]
     },
     "execution_count": 84,
     "metadata": {},
     "output_type": "execute_result"
    }
   ],
   "source": [
    "shipper_order"
   ]
  },
  {
   "cell_type": "code",
   "execution_count": 85,
   "metadata": {},
   "outputs": [],
   "source": [
    "late_count = shipper_order.groupby(['CompanyName'])['LateShipments'].count().reset_index()\n",
    "late_total = shipper_order.groupby(['CompanyName'])['LateShipments'].sum().reset_index()\n"
   ]
  },
  {
   "cell_type": "code",
   "execution_count": 86,
   "metadata": {},
   "outputs": [
    {
     "data": {
      "text/html": [
       "<div>\n",
       "<style scoped>\n",
       "    .dataframe tbody tr th:only-of-type {\n",
       "        vertical-align: middle;\n",
       "    }\n",
       "\n",
       "    .dataframe tbody tr th {\n",
       "        vertical-align: top;\n",
       "    }\n",
       "\n",
       "    .dataframe thead th {\n",
       "        text-align: right;\n",
       "    }\n",
       "</style>\n",
       "<table border=\"1\" class=\"dataframe\">\n",
       "  <thead>\n",
       "    <tr style=\"text-align: right;\">\n",
       "      <th></th>\n",
       "      <th>index</th>\n",
       "      <th>0</th>\n",
       "    </tr>\n",
       "  </thead>\n",
       "  <tbody>\n",
       "    <tr>\n",
       "      <td>0</td>\n",
       "      <td>0</td>\n",
       "      <td>5.306122</td>\n",
       "    </tr>\n",
       "    <tr>\n",
       "      <td>1</td>\n",
       "      <td>1</td>\n",
       "      <td>4.444444</td>\n",
       "    </tr>\n",
       "    <tr>\n",
       "      <td>2</td>\n",
       "      <td>2</td>\n",
       "      <td>4.016064</td>\n",
       "    </tr>\n",
       "  </tbody>\n",
       "</table>\n",
       "</div>"
      ],
      "text/plain": [
       "   index         0\n",
       "0      0  5.306122\n",
       "1      1  4.444444\n",
       "2      2  4.016064"
      ]
     },
     "execution_count": 86,
     "metadata": {},
     "output_type": "execute_result"
    }
   ],
   "source": [
    "Speedy_Express_late = (late_count.LateShipments[0] / len(Speedy_Express)) * 100\n",
    "United_Package_late = (late_count.LateShipments[1] / len(United_Package)) * 100\n",
    "Federal_Shipping_late = (late_count.LateShipments[2] / len(Federal_Shipping)) * 100\n",
    "late_list = pd.DataFrame([Speedy_Express_late, United_Package_late, Federal_Shipping_late]).reset_index()\n",
    "late_list"
   ]
  },
  {
   "cell_type": "code",
   "execution_count": 87,
   "metadata": {},
   "outputs": [
    {
     "data": {
      "image/png": "[encoded data removed]",
      "text/plain": [
       "<Figure size 288x288 with 1 Axes>"
      ]
     },
     "metadata": {
      "needs_background": "light"
     },
     "output_type": "display_data"
    }
   ],
   "source": [
    "plt.figure(figsize=(4,4))\n",
    "late_list[0].plot(kind='bar', color=['green','blue','cyan'])\n",
    "plt.title('Percentage of Late Shipments')\n",
    "plt.ylabel('Total Percentage (%)')\n",
    "\n",
    "plt.xticks(np.arange(3), labels=['Speedy','United','Federal'])\n",
    "plt.show()"
   ]
  },
  {
   "cell_type": "markdown",
   "metadata": {},
   "source": [
    "<a id=\"5.3\"></a>"
   ]
  },
  {
   "cell_type": "markdown",
   "metadata": {},
   "source": [
    "### 5.3 Test Data"
   ]
  },
  {
   "cell_type": "code",
   "execution_count": 88,
   "metadata": {},
   "outputs": [],
   "source": [
    "# formula = 'ProcessingTime ~ C(ShipVia)'\n",
    "# lm = ols(formula, Order_df).fit()\n",
    "# table = sm.stats.anova_lm(lm, typ=2)\n",
    "# print(table)"
   ]
  },
  {
   "cell_type": "markdown",
   "metadata": {},
   "source": [
    "<a id=\"5.4\"></a>"
   ]
  },
  {
   "cell_type": "markdown",
   "metadata": {},
   "source": [
    "### 5.4 Interpret Data"
   ]
  },
  {
   "cell_type": "markdown",
   "metadata": {},
   "source": [
    "Although there is an observable difference, we cannot reject the null hypothesis. \n",
    "<br> Federal Shipping has a slight advantage in decreased time from the moment an order is placed to the time it is shipped. \n",
    "<br> Federal Shipping also has a lower percentage of late shipments. \n",
    "<br> From an efficiency perspective, Federal Shipping performs better than the other two. \n",
    "<br> Next study will compare cost vs efficiency. \n"
   ]
  },
  {
   "cell_type": "markdown",
   "metadata": {},
   "source": [
    "<a id=\"006\"></a>"
   ]
  },
  {
   "cell_type": "markdown",
   "metadata": {},
   "source": [
    "## 6) Question #4\n",
    "> ### \"Does the best selling product category differ significantly between regions?\"\n",
    "***"
   ]
  },
  {
   "cell_type": "markdown",
   "metadata": {},
   "source": [
    "**6.1** - [Define Hypothesis](#6.1) \n",
    "<br>**6.2** - [Explore Data](#6.2) \n",
    "<br>**6.3** - [Test Data](#6.3) \n",
    "<br>**6.4** - [Interpret Data](#6.4)\n",
    "<br>"
   ]
  },
  {
   "cell_type": "markdown",
   "metadata": {},
   "source": [
    "<a id=\"6.1\"></a>"
   ]
  },
  {
   "cell_type": "markdown",
   "metadata": {},
   "source": [
    "### 6.1 Define Hypothesis"
   ]
  },
  {
   "cell_type": "markdown",
   "metadata": {},
   "source": [
    "$H_O$: There is **NO** significant difference in product category popularity between regions.<br> \n",
    "$H_a$: There **IS** significant difference in product category popularity between regions.<br> \n",
    "$\\alpha$ = 0.05: The null hypothesis will be rejected if our P-value outcome is below this threshold."
   ]
  },
  {
   "cell_type": "markdown",
   "metadata": {},
   "source": [
    "<a id=\"6.2\"></a>"
   ]
  },
  {
   "cell_type": "markdown",
   "metadata": {},
   "source": [
    "### 6.2 Explore Data"
   ]
  },
  {
   "cell_type": "code",
   "execution_count": 89,
   "metadata": {},
   "outputs": [],
   "source": [
    "cat_region = pd.read_sql_query('''SELECT OD.Quantity, OD.Discount, OD.UnitPrice, O.ShipRegion, P.CategoryId, P.ProductName \n",
    "                                FROM [Order] AS O\n",
    "                                JOIN OrderDetail AS OD\n",
    "                                ON O.Id = OD.OrderId\n",
    "                                JOIN Product AS P\n",
    "                                ON P.Id = OD.ProductId\n",
    "                                ''', engine)   "
   ]
  },
  {
   "cell_type": "code",
   "execution_count": 90,
   "metadata": {},
   "outputs": [
    {
     "data": {
      "text/html": [
       "<div>\n",
       "<style scoped>\n",
       "    .dataframe tbody tr th:only-of-type {\n",
       "        vertical-align: middle;\n",
       "    }\n",
       "\n",
       "    .dataframe tbody tr th {\n",
       "        vertical-align: top;\n",
       "    }\n",
       "\n",
       "    .dataframe thead th {\n",
       "        text-align: right;\n",
       "    }\n",
       "</style>\n",
       "<table border=\"1\" class=\"dataframe\">\n",
       "  <thead>\n",
       "    <tr style=\"text-align: right;\">\n",
       "      <th></th>\n",
       "      <th>ShipRegion</th>\n",
       "      <th>CategoryId</th>\n",
       "      <th>total_rev</th>\n",
       "    </tr>\n",
       "  </thead>\n",
       "  <tbody>\n",
       "    <tr>\n",
       "      <td>0</td>\n",
       "      <td>Western Europe</td>\n",
       "      <td>4</td>\n",
       "      <td>168.000</td>\n",
       "    </tr>\n",
       "    <tr>\n",
       "      <td>1</td>\n",
       "      <td>Western Europe</td>\n",
       "      <td>5</td>\n",
       "      <td>98.000</td>\n",
       "    </tr>\n",
       "    <tr>\n",
       "      <td>2</td>\n",
       "      <td>Western Europe</td>\n",
       "      <td>4</td>\n",
       "      <td>174.000</td>\n",
       "    </tr>\n",
       "    <tr>\n",
       "      <td>3</td>\n",
       "      <td>Western Europe</td>\n",
       "      <td>7</td>\n",
       "      <td>167.400</td>\n",
       "    </tr>\n",
       "    <tr>\n",
       "      <td>4</td>\n",
       "      <td>Western Europe</td>\n",
       "      <td>7</td>\n",
       "      <td>1696.000</td>\n",
       "    </tr>\n",
       "    <tr>\n",
       "      <td>...</td>\n",
       "      <td>...</td>\n",
       "      <td>...</td>\n",
       "      <td>...</td>\n",
       "    </tr>\n",
       "    <tr>\n",
       "      <td>2150</td>\n",
       "      <td>North America</td>\n",
       "      <td>5</td>\n",
       "      <td>64.505</td>\n",
       "    </tr>\n",
       "    <tr>\n",
       "      <td>2151</td>\n",
       "      <td>North America</td>\n",
       "      <td>2</td>\n",
       "      <td>17.000</td>\n",
       "    </tr>\n",
       "    <tr>\n",
       "      <td>2152</td>\n",
       "      <td>North America</td>\n",
       "      <td>8</td>\n",
       "      <td>29.700</td>\n",
       "    </tr>\n",
       "    <tr>\n",
       "      <td>2153</td>\n",
       "      <td>North America</td>\n",
       "      <td>1</td>\n",
       "      <td>31.000</td>\n",
       "    </tr>\n",
       "    <tr>\n",
       "      <td>2154</td>\n",
       "      <td>North America</td>\n",
       "      <td>2</td>\n",
       "      <td>26.000</td>\n",
       "    </tr>\n",
       "  </tbody>\n",
       "</table>\n",
       "<p>2155 rows × 3 columns</p>\n",
       "</div>"
      ],
      "text/plain": [
       "          ShipRegion  CategoryId  total_rev\n",
       "0     Western Europe           4    168.000\n",
       "1     Western Europe           5     98.000\n",
       "2     Western Europe           4    174.000\n",
       "3     Western Europe           7    167.400\n",
       "4     Western Europe           7   1696.000\n",
       "...              ...         ...        ...\n",
       "2150   North America           5     64.505\n",
       "2151   North America           2     17.000\n",
       "2152   North America           8     29.700\n",
       "2153   North America           1     31.000\n",
       "2154   North America           2     26.000\n",
       "\n",
       "[2155 rows x 3 columns]"
      ]
     },
     "execution_count": 90,
     "metadata": {},
     "output_type": "execute_result"
    }
   ],
   "source": [
    "cat_region['total_rev'] = cat_region.UnitPrice * cat_region.Quantity * (1 - cat_region.Discount)\n",
    "cat_region = cat_region.drop(['UnitPrice','Quantity','Discount', 'ProductName'], axis=1)\n",
    "cat_region"
   ]
  },
  {
   "cell_type": "code",
   "execution_count": 91,
   "metadata": {},
   "outputs": [],
   "source": [
    "cat_region_1 = cat_region.groupby(['CategoryId', 'ShipRegion'])['total_rev'].sum()\n",
    "cat_region_2 = cat_region.groupby(['CategoryId', 'ShipRegion']).count()\n",
    "cat_region_3 = cat_region.groupby(['CategoryId', 'ShipRegion'])['total_rev'].mean()"
   ]
  },
  {
   "cell_type": "code",
   "execution_count": 92,
   "metadata": {},
   "outputs": [],
   "source": [
    "Beverages = cat_region.loc[(cat_region.CategoryId==1)]\n",
    "Condiments = cat_region.loc[(cat_region.CategoryId==2)]\n",
    "Confections = cat_region.loc[(cat_region.CategoryId==3)]\n",
    "Dairy = cat_region.loc[(cat_region.CategoryId==4)]\n",
    "Grains_Cereal = cat_region.loc[(cat_region.CategoryId==5)]\n",
    "Meat_Poultry = cat_region.loc[(cat_region.CategoryId==6)]\n",
    "Produce = cat_region.loc[(cat_region.CategoryId==7)]\n",
    "Seafood = cat_region.loc[(cat_region.CategoryId==8)]\n"
   ]
  },
  {
   "cell_type": "code",
   "execution_count": 93,
   "metadata": {},
   "outputs": [
    {
     "data": {
      "image/png": "[encoded data removed]",
      "text/plain": [
       "<Figure size 432x288 with 1 Axes>"
      ]
     },
     "metadata": {
      "needs_background": "light"
     },
     "output_type": "display_data"
    }
   ],
   "source": [
    "sns.distplot(cat_region_1);"
   ]
  },
  {
   "cell_type": "code",
   "execution_count": 94,
   "metadata": {},
   "outputs": [
    {
     "data": {
      "image/png": "[encoded data removed]",
      "text/plain": [
       "<Figure size 432x288 with 1 Axes>"
      ]
     },
     "metadata": {
      "needs_background": "light"
     },
     "output_type": "display_data"
    }
   ],
   "source": [
    "sns.distplot(cat_region_2);"
   ]
  },
  {
   "cell_type": "code",
   "execution_count": 95,
   "metadata": {
    "scrolled": true
   },
   "outputs": [
    {
     "data": {
      "image/png": "[encoded data removed]",
      "text/plain": [
       "<Figure size 432x288 with 1 Axes>"
      ]
     },
     "metadata": {
      "needs_background": "light"
     },
     "output_type": "display_data"
    }
   ],
   "source": [
    "sns.distplot(cat_region_3);"
   ]
  },
  {
   "cell_type": "code",
   "execution_count": 96,
   "metadata": {},
   "outputs": [
    {
     "data": {
      "text/html": [
       "<div>\n",
       "<style scoped>\n",
       "    .dataframe tbody tr th:only-of-type {\n",
       "        vertical-align: middle;\n",
       "    }\n",
       "\n",
       "    .dataframe tbody tr th {\n",
       "        vertical-align: top;\n",
       "    }\n",
       "\n",
       "    .dataframe thead th {\n",
       "        text-align: right;\n",
       "    }\n",
       "</style>\n",
       "<table border=\"1\" class=\"dataframe\">\n",
       "  <thead>\n",
       "    <tr style=\"text-align: right;\">\n",
       "      <th></th>\n",
       "      <th>ShipRegion</th>\n",
       "      <th>CategoryId</th>\n",
       "      <th>total_rev</th>\n",
       "    </tr>\n",
       "  </thead>\n",
       "  <tbody>\n",
       "    <tr>\n",
       "      <td>0</td>\n",
       "      <td>Western Europe</td>\n",
       "      <td>4</td>\n",
       "      <td>168.000</td>\n",
       "    </tr>\n",
       "    <tr>\n",
       "      <td>1</td>\n",
       "      <td>Western Europe</td>\n",
       "      <td>5</td>\n",
       "      <td>98.000</td>\n",
       "    </tr>\n",
       "    <tr>\n",
       "      <td>2</td>\n",
       "      <td>Western Europe</td>\n",
       "      <td>4</td>\n",
       "      <td>174.000</td>\n",
       "    </tr>\n",
       "    <tr>\n",
       "      <td>3</td>\n",
       "      <td>Western Europe</td>\n",
       "      <td>7</td>\n",
       "      <td>167.400</td>\n",
       "    </tr>\n",
       "    <tr>\n",
       "      <td>4</td>\n",
       "      <td>Western Europe</td>\n",
       "      <td>7</td>\n",
       "      <td>1696.000</td>\n",
       "    </tr>\n",
       "    <tr>\n",
       "      <td>...</td>\n",
       "      <td>...</td>\n",
       "      <td>...</td>\n",
       "      <td>...</td>\n",
       "    </tr>\n",
       "    <tr>\n",
       "      <td>2150</td>\n",
       "      <td>North America</td>\n",
       "      <td>5</td>\n",
       "      <td>64.505</td>\n",
       "    </tr>\n",
       "    <tr>\n",
       "      <td>2151</td>\n",
       "      <td>North America</td>\n",
       "      <td>2</td>\n",
       "      <td>17.000</td>\n",
       "    </tr>\n",
       "    <tr>\n",
       "      <td>2152</td>\n",
       "      <td>North America</td>\n",
       "      <td>8</td>\n",
       "      <td>29.700</td>\n",
       "    </tr>\n",
       "    <tr>\n",
       "      <td>2153</td>\n",
       "      <td>North America</td>\n",
       "      <td>1</td>\n",
       "      <td>31.000</td>\n",
       "    </tr>\n",
       "    <tr>\n",
       "      <td>2154</td>\n",
       "      <td>North America</td>\n",
       "      <td>2</td>\n",
       "      <td>26.000</td>\n",
       "    </tr>\n",
       "  </tbody>\n",
       "</table>\n",
       "<p>2155 rows × 3 columns</p>\n",
       "</div>"
      ],
      "text/plain": [
       "          ShipRegion  CategoryId  total_rev\n",
       "0     Western Europe           4    168.000\n",
       "1     Western Europe           5     98.000\n",
       "2     Western Europe           4    174.000\n",
       "3     Western Europe           7    167.400\n",
       "4     Western Europe           7   1696.000\n",
       "...              ...         ...        ...\n",
       "2150   North America           5     64.505\n",
       "2151   North America           2     17.000\n",
       "2152   North America           8     29.700\n",
       "2153   North America           1     31.000\n",
       "2154   North America           2     26.000\n",
       "\n",
       "[2155 rows x 3 columns]"
      ]
     },
     "execution_count": 96,
     "metadata": {},
     "output_type": "execute_result"
    }
   ],
   "source": [
    "cat_region"
   ]
  },
  {
   "cell_type": "code",
   "execution_count": 97,
   "metadata": {},
   "outputs": [
    {
     "data": {
      "image/png": "[encoded data removed]",
      "text/plain": [
       "<Figure size 1008x1440 with 8 Axes>"
      ]
     },
     "metadata": {
      "needs_background": "light"
     },
     "output_type": "display_data"
    }
   ],
   "source": [
    "# Plotting the number of orders, total revenue per order and average revenue per order for each region\n",
    "fig, (ax1, ax2, ax3, ax4, ax5, ax6, ax7, ax8) = plt.subplots(8, 1, figsize=(14,20))\n",
    "Beverages.groupby(['ShipRegion'])['total_rev'].mean().plot(kind='barh', ax=ax1)\n",
    "Condiments.groupby(['ShipRegion'])['total_rev'].mean().plot(kind='barh', ax=ax2)\n",
    "Confections.groupby(['ShipRegion'])['total_rev'].mean().plot(kind='barh', ax=ax3)\n",
    "Dairy.groupby(['ShipRegion'])['total_rev'].mean().plot(kind='barh', ax=ax4)\n",
    "Grains_Cereal.groupby(['ShipRegion'])['total_rev'].mean().plot(kind='barh', ax=ax5)\n",
    "Meat_Poultry.groupby(['ShipRegion'])['total_rev'].mean().plot(kind='barh', ax=ax6)\n",
    "Produce.groupby(['ShipRegion'])['total_rev'].mean().plot(kind='barh', ax=ax7)\n",
    "Seafood.groupby(['ShipRegion'])['total_rev'].mean().plot(kind='barh', ax=ax8)\n",
    "ax1.set_title('Beverages')\n",
    "ax1.set_ylabel('')\n",
    "ax2.set_title('Condiments')\n",
    "ax2.set_ylabel('')\n",
    "ax3.set_title('Confections')\n",
    "ax3.set_ylabel('')\n",
    "ax4.set_title('Dairy')\n",
    "ax4.set_ylabel('')\n",
    "ax5.set_title('Grains & Cereal')\n",
    "ax5.set_ylabel('')\n",
    "ax6.set_title('Meat & Poultry')\n",
    "ax6.set_ylabel('')\n",
    "ax7.set_title('Produce')\n",
    "ax7.set_ylabel('')\n",
    "ax8.set_title('Seafood')\n",
    "ax8.set_ylabel('')\n",
    "fig.subplots_adjust(hspace=.5);"
   ]
  },
  {
   "cell_type": "code",
   "execution_count": 98,
   "metadata": {
    "scrolled": true
   },
   "outputs": [
    {
     "data": {
      "image/png": "[encoded data removed]",
      "text/plain": [
       "<Figure size 432x288 with 1 Axes>"
      ]
     },
     "metadata": {
      "needs_background": "light"
     },
     "output_type": "display_data"
    }
   ],
   "source": [
    "Confections.groupby(['ShipRegion'])['total_rev'].sum().plot(kind='barh');"
   ]
  },
  {
   "cell_type": "code",
   "execution_count": 99,
   "metadata": {},
   "outputs": [
    {
     "data": {
      "image/png": "[encoded data removed]",
      "text/plain": [
       "<Figure size 432x288 with 1 Axes>"
      ]
     },
     "metadata": {
      "needs_background": "light"
     },
     "output_type": "display_data"
    }
   ],
   "source": [
    "Dairy.groupby(['ShipRegion'])['total_rev'].sum().plot(kind='barh');"
   ]
  },
  {
   "cell_type": "markdown",
   "metadata": {},
   "source": [
    "<a id=\"6.3\"></a>"
   ]
  },
  {
   "cell_type": "markdown",
   "metadata": {},
   "source": [
    "### 6.3 Test Data"
   ]
  },
  {
   "cell_type": "code",
   "execution_count": 100,
   "metadata": {},
   "outputs": [
    {
     "name": "stdout",
     "output_type": "stream",
     "text": [
      "\n",
      "Beverages:\n",
      "                      sum_sq     df         F    PR(>F)\n",
      "C(ShipRegion)  2.304220e+07    8.0  1.013759  0.424856\n",
      "Residual       1.122268e+09  395.0       NaN       NaN\n",
      "\n",
      "Condiments:\n",
      "                      sum_sq     df         F    PR(>F)\n",
      "C(ShipRegion)  2.538756e+06    8.0  1.513332  0.154133\n",
      "Residual       4.340774e+07  207.0       NaN       NaN\n",
      "\n",
      "Confections:\n",
      "                      sum_sq     df         F    PR(>F)\n",
      "C(ShipRegion)  7.730153e+06    8.0  2.626665  0.008449\n",
      "Residual       1.195575e+08  325.0       NaN       NaN\n",
      "\n",
      "Dairy:\n",
      "                      sum_sq     df         F    PR(>F)\n",
      "C(ShipRegion)  6.627198e+06    8.0  1.760274  0.083689\n",
      "Residual       1.680072e+08  357.0       NaN       NaN\n",
      "\n",
      "Grains & Cereal:\n",
      "                      sum_sq     df         F    PR(>F)\n",
      "C(ShipRegion)  2.587505e+06    7.0  1.322002  0.241882\n",
      "Residual       5.256648e+07  188.0       NaN       NaN\n",
      "\n",
      "Meat & Poultry:\n",
      "                      sum_sq     df         F    PR(>F)\n",
      "C(ShipRegion)  2.090162e+07    8.0  1.596879  0.129296\n",
      "Residual       2.683254e+08  164.0       NaN       NaN\n",
      "\n",
      "Produce:\n",
      "                      sum_sq     df         F    PR(>F)\n",
      "C(ShipRegion)  7.330662e+06    8.0  1.606681  0.129121\n",
      "Residual       7.243146e+07  127.0       NaN       NaN\n",
      "\n",
      "Seafood:\n",
      "                      sum_sq     df         F    PR(>F)\n",
      "C(ShipRegion)  1.969286e+06    8.0  1.367833  0.209741\n",
      "Residual       5.776845e+07  321.0       NaN       NaN\n"
     ]
    }
   ],
   "source": [
    "formula = 'total_rev ~ C(ShipRegion)'\n",
    "lm = ols(formula, Beverages).fit()\n",
    "table1 = sm.stats.anova_lm(lm, typ=2)\n",
    "print('\\nBeverages:\\n', table1)\n",
    "\n",
    "lm = ols(formula, Condiments).fit()\n",
    "table2 = sm.stats.anova_lm(lm, typ=2)\n",
    "print('\\nCondiments:\\n', table2)\n",
    "\n",
    "lm = ols(formula, Confections).fit()\n",
    "table3 = sm.stats.anova_lm(lm, typ=2)\n",
    "print('\\nConfections:\\n', table3)\n",
    "\n",
    "lm = ols(formula, Dairy).fit()\n",
    "table4 = sm.stats.anova_lm(lm, typ=2)\n",
    "print('\\nDairy:\\n', table4)\n",
    "\n",
    "lm = ols(formula, Grains_Cereal).fit()\n",
    "table5 = sm.stats.anova_lm(lm, typ=2)\n",
    "print('\\nGrains & Cereal:\\n', table5)\n",
    "\n",
    "lm = ols(formula, Meat_Poultry).fit()\n",
    "table6 = sm.stats.anova_lm(lm, typ=2)\n",
    "print('\\nMeat & Poultry:\\n', table6)\n",
    "\n",
    "lm = ols(formula, Produce).fit()\n",
    "table7 = sm.stats.anova_lm(lm, typ=2)\n",
    "print('\\nProduce:\\n', table7)\n",
    "\n",
    "lm = ols(formula, Seafood).fit()\n",
    "table8 = sm.stats.anova_lm(lm, typ=2)\n",
    "print('\\nSeafood:\\n', table8)"
   ]
  },
  {
   "cell_type": "markdown",
   "metadata": {},
   "source": [
    "<a id=\"6.4\"></a>"
   ]
  },
  {
   "cell_type": "markdown",
   "metadata": {},
   "source": [
    "### 6.4 Interpret Data"
   ]
  },
  {
   "cell_type": "markdown",
   "metadata": {},
   "source": [
    "Only two categories showed a significant difference between regions: Confections and Dairy.\n",
    "Since we didn't specify if only a specific region affects the null hypothesis, we must reject the null hypothesis based off even one category showing significance. "
   ]
  }
 ],
 "metadata": {
  "kernelspec": {
   "display_name": "Python [conda env:learn-env] *",
   "language": "python",
   "name": "conda-env-learn-env-py"
  },
  "language_info": {
   "codemirror_mode": {
    "name": "ipython",
    "version": 3
   },
   "file_extension": ".py",
   "mimetype": "text/x-python",
   "name": "python",
   "nbconvert_exporter": "python",
   "pygments_lexer": "ipython3",
   "version": "3.6.6"
  },
  "toc": {
   "base_numbering": 1,
   "nav_menu": {},
   "number_sections": true,
   "sideBar": true,
   "skip_h1_title": false,
   "title_cell": "Table of Contents",
   "title_sidebar": "Contents",
   "toc_cell": false,
   "toc_position": {},
   "toc_section_display": true,
   "toc_window_display": false
  },
  "varInspector": {
   "cols": {
    "lenName": 16,
    "lenType": 16,
    "lenVar": 40
   },
   "kernels_config": {
    "python": {
     "delete_cmd_postfix": "",
     "delete_cmd_prefix": "del ",
     "library": "var_list.py",
     "varRefreshCmd": "print(var_dic_list())"
    },
    "r": {
     "delete_cmd_postfix": ") ",
     "delete_cmd_prefix": "rm(",
     "library": "var_list.r",
     "varRefreshCmd": "cat(var_dic_list()) "
    }
   },
   "types_to_exclude": [
    "module",
    "function",
    "builtin_function_or_method",
    "instance",
    "_Feature"
   ],
   "window_display": false
  }
 },
 "nbformat": 4,
 "nbformat_minor": 4
}
